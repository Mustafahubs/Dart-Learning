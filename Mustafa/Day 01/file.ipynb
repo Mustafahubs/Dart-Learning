{
 "cells": [
  {
   "cell_type": "code",
   "execution_count": null,
   "metadata": {},
   "outputs": [],
   "source": [
    "// for (var i = 2; i <= 10; i++) {\n",
    "//     for (var j = 1; j <= 10; j++) {\n",
    "//         var ans = '$i X $j = ${i*j}';\n",
    "//         print(ans);\n",
    "//     }\n",
    "//     print('');\n",
    "// };"
   ]
  },
  {
   "cell_type": "code",
   "execution_count": null,
   "metadata": {},
   "outputs": [],
   "source": [
    "List<int> countBy(int x, int n) {\n",
    "  int end = x * n;\n",
    "  List<int> array = [];\n",
    "  for (int i = 1; i<=end; i++) {\n",
    "    array.add(i*x);\n",
    "    if (i == end) {\n",
    "      break;\n",
    "    };\n",
    "  }\n",
    "  return array;\n",
    "    \n",
    "}"
   ]
  },
  {
   "cell_type": "code",
   "execution_count": null,
   "metadata": {},
   "outputs": [],
   "source": [
    "List<int> ans = countBy(2,5);\n",
    "print(ans);"
   ]
  },
  {
   "cell_type": "code",
   "execution_count": null,
   "metadata": {},
   "outputs": [],
   "source": []
  },
  {
   "cell_type": "code",
   "execution_count": null,
   "metadata": {},
   "outputs": [],
   "source": []
  },
  {
   "cell_type": "markdown",
   "metadata": {},
   "source": [
    "Complete the function so that it finds the average of the three scores passed to it and returns the letter value associated with that grade.\n",
    "\n",
    "Numerical Score\tLetter Grade\n",
    "90 <= score <= 100\t'A'\n",
    "80 <= score < 90\t'B'\n",
    "70 <= score < 80\t'C'\n",
    "60 <= score < 70\t'D'\n",
    "0 <= score < 60\t'F'"
   ]
  },
  {
   "cell_type": "code",
   "execution_count": 1,
   "metadata": {},
   "outputs": [
    {
     "name": "stdout",
     "output_type": "stream",
     "text": []
    }
   ],
   "source": [
    "String getGrade(int a, int b, int c) {\n",
    "  int total = a + b + c;\n",
    "  int average = total~/3;\n",
    "  String grade = '';\n",
    "  if (average >= 90 && average <= 100) {\n",
    "    grade = 'A';\n",
    "  } else if (average >= 80 && average <= 90) {\n",
    "    grade = 'B';\n",
    "  } else if (average >= 70 && average <= 80) {\n",
    "    grade = 'C';\n",
    "  } else if (average >= 60 && average <= 70) {\n",
    "    grade = 'D';\n",
    "  } else if (average >= 0 && average <= 60) {\n",
    "  grade = 'F';\n",
    "  };\n",
    "  return grade;\n",
    "};"
   ]
  },
  {
   "cell_type": "code",
   "execution_count": 2,
   "metadata": {},
   "outputs": [
    {
     "name": "stdout",
     "output_type": "stream",
     "text": [
      "C\n"
     ]
    }
   ],
   "source": [
    "String grade = getGrade(100,80,50);\n",
    "\n",
    "print(grade);"
   ]
  },
  {
   "cell_type": "code",
   "execution_count": null,
   "metadata": {},
   "outputs": [],
   "source": []
  },
  {
   "cell_type": "markdown",
   "metadata": {},
   "source": [
    "Write a function that takes an array of numbers and returns the sum of the numbers. The numbers can be negative or non-integer. If the array does not contain any numbers then you should return 0.\n",
    "\n",
    "Examples\n",
    "Input: [1, 5.2, 4, 0, -1]\n",
    "Output: 9.2\n",
    "\n",
    "Input: []\n",
    "Output: 0\n",
    "\n",
    "Input: [-2.398]\n",
    "Output: -2.398"
   ]
  },
  {
   "cell_type": "code",
   "execution_count": null,
   "metadata": {},
   "outputs": [],
   "source": [
    "num sum(List<num> arr) {\n",
    "  // your code here\n",
    "}"
   ]
  },
  {
   "cell_type": "code",
   "execution_count": 4,
   "metadata": {},
   "outputs": [
    {
     "name": "stdout",
     "output_type": "stream",
     "text": []
    }
   ],
   "source": [
    "List<num> arr = [1, 5.2, 4, 0, -1];"
   ]
  },
  {
   "cell_type": "code",
   "execution_count": 5,
   "metadata": {},
   "outputs": [
    {
     "name": "stdout",
     "output_type": "stream",
     "text": [
      "5\n"
     ]
    }
   ],
   "source": [
    "print(arr.length);"
   ]
  },
  {
   "cell_type": "code",
   "execution_count": 7,
   "metadata": {},
   "outputs": [
    {
     "ename": "ERROR",
     "evalue": "error",
     "output_type": "error",
     "traceback": [
      "../../../../../../GHULAM~1/AppData/Local/Temp/tmpe6632adj/main.dart:26:23: Error: The argument type 'int Function(int, int)' can't be assigned to the parameter type 'int Function(int, num)'.",
      "int sum = arr.fold(0, (int previousValue, int element) => previousValue + element);",
      "                      ^"
     ]
    }
   ],
   "source": [
    "int sum = arr.fold(0, (int previousValue, int element) => previousValue + element);\n",
    "\n",
    "print(sum);"
   ]
  },
  {
   "cell_type": "code",
   "execution_count": 1,
   "metadata": {},
   "outputs": [
    {
     "ename": "ERROR",
     "evalue": "error",
     "output_type": "error",
     "traceback": [
      "../../../../../../GHULAM~1/AppData/Local/Temp/tmphiut3l85/main.dart:4:5: Error: Expected ';' after this.",
      "int previousValue 4;",
      "    ^^^^^^^^^^^^^",
      "../../../../../../GHULAM~1/AppData/Local/Temp/tmphiut3l85/main.dart:5:5: Error: Expected ';' after this.",
      "int element 5;",
      "    ^^^^^^^"
     ]
    }
   ],
   "source": [
    "int previousValue 4;\n",
    "int element 5;\n",
    "int ans(int previousValue, int element) => previousValue + element;"
   ]
  },
  {
   "cell_type": "code",
   "execution_count": 2,
   "metadata": {},
   "outputs": [
    {
     "name": "stdout",
     "output_type": "stream",
     "text": []
    }
   ],
   "source": [
    "int multiply(int a, int b) => a * b;"
   ]
  }
 ],
 "metadata": {
  "kernelspec": {
   "display_name": "Dart",
   "language": "",
   "name": "jupyterdartkernel"
  },
  "language_info": {
   "file_extension": "dart",
   "mimetype": "application/dart",
   "name": "dart"
  }
 },
 "nbformat": 4,
 "nbformat_minor": 2
}
