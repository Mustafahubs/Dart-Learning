{
 "cells": [
  {
   "cell_type": "code",
   "execution_count": 2,
   "metadata": {},
   "outputs": [
    {
     "name": "stdout",
     "output_type": "stream",
     "text": []
    }
   ],
   "source": [
    "import 'dart:io';"
   ]
  },
  {
   "cell_type": "code",
   "execution_count": 3,
   "metadata": {},
   "outputs": [
    {
     "name": "stdout",
     "output_type": "stream",
     "text": [
      "---------------------\n",
      "Name,Email,Phone\n",
      "String\n",
      "John, john@gmail.com, 1234567890\n",
      "String\n",
      "Smith, smith@gmail.com, 0987654321\n",
      "String\n"
     ]
    }
   ],
   "source": [
    "// open file\n",
    "File file = File('test.csv');\n",
    "// read file\n",
    "String contents = file.readAsStringSync();\n",
    "// split file using new line\n",
    "List<String> lines = contents.split('\\n');\n",
    "// print file\n",
    "print('---------------------');\n",
    "for (var line in lines) {\n",
    "  print(line);\n",
    "  // print(line.runtimeType);\n",
    "}\n"
   ]
  },
  {
   "cell_type": "code",
   "execution_count": null,
   "metadata": {},
   "outputs": [],
   "source": []
  },
  {
   "cell_type": "code",
   "execution_count": null,
   "metadata": {},
   "outputs": [],
   "source": []
  }
 ],
 "metadata": {
  "kernelspec": {
   "display_name": "Dart",
   "language": "",
   "name": "jupyterdartkernel"
  },
  "language_info": {
   "file_extension": "dart",
   "mimetype": "application/dart",
   "name": "dart"
  }
 },
 "nbformat": 4,
 "nbformat_minor": 2
}
