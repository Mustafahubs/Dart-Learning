{
 "cells": [
  {
   "cell_type": "code",
   "execution_count": 1,
   "metadata": {},
   "outputs": [
    {
     "name": "stdout",
     "output_type": "stream",
     "text": []
    }
   ],
   "source": [
    "import 'dart:io';"
   ]
  },
  {
   "cell_type": "code",
   "execution_count": 2,
   "metadata": {},
   "outputs": [
    {
     "name": "stdout",
     "output_type": "stream",
     "text": []
    }
   ],
   "source": [
    "File file = File('test.txt');"
   ]
  },
  {
   "cell_type": "code",
   "execution_count": 3,
   "metadata": {},
   "outputs": [
    {
     "name": "stdout",
     "output_type": "stream",
     "text": [
      "This a Cat.\n",
      "This a Cat.\n",
      "This a Cat.\n",
      "This a Cat.\n",
      "This a Cat.\n",
      "This a Cat.\n"
     ]
    }
   ],
   "source": [
    "String contents = file.readAsStringSync();\n",
    "  // print file\n",
    "print(contents);"
   ]
  },
  {
   "cell_type": "code",
   "execution_count": 4,
   "metadata": {},
   "outputs": [
    {
     "name": "stdout",
     "output_type": "stream",
     "text": [
      "File path: test.txt\n",
      "File absolute path: c:\\Dart_Learning\\dart_tutorial\\Dart_Learning\\Dart-Learning\\Ahmad\\Day_No_10\\File Handling in Dart\\Read & Write Txt File\\test.txt\n",
      "File size: 76 bytes\n",
      "Last modified: 2024-01-25 14:41:55.000\n"
     ]
    }
   ],
   "source": [
    "// get file location\n",
    "print('File path: ${file.path}');\n",
    "// get absolute path\n",
    "print('File absolute path: ${file.absolute.path}');\n",
    "// get file size\n",
    "print('File size: ${file.lengthSync()} bytes');\n",
    "// get last modified time\n",
    "print('Last modified: ${file.lastModifiedSync()}');"
   ]
  },
  {
   "cell_type": "code",
   "execution_count": null,
   "metadata": {},
   "outputs": [],
   "source": []
  }
 ],
 "metadata": {
  "kernelspec": {
   "display_name": "Dart",
   "language": "",
   "name": "jupyterdartkernel"
  },
  "language_info": {
   "file_extension": "dart",
   "mimetype": "application/dart",
   "name": "dart"
  }
 },
 "nbformat": 4,
 "nbformat_minor": 2
}
