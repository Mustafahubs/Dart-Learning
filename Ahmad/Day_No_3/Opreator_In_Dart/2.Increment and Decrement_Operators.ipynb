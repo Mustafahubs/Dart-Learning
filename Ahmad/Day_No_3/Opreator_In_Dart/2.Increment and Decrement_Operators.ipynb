{
 "cells": [
  {
   "cell_type": "markdown",
   "metadata": {},
   "source": [
    "Increment and Decrement Operators"
   ]
  },
  {
   "cell_type": "code",
   "execution_count": 1,
   "metadata": {},
   "outputs": [
    {
     "name": "stdout",
     "output_type": "stream",
     "text": [
      "1\n"
     ]
    }
   ],
   "source": [
    "// Pre Increment\n",
    "// Increase Value By 1. var = var + 1 Expression value is var+1\n",
    "int num1 = 0;\n",
    "int num2 = 0;\n",
    "\n",
    "num2 = ++num1; // it add 1 in the give varibale\n",
    "print(num2);"
   ]
  },
  {
   "cell_type": "code",
   "execution_count": 4,
   "metadata": {},
   "outputs": [
    {
     "name": "stdout",
     "output_type": "stream",
     "text": [
      "0\n",
      "0\n"
     ]
    }
   ],
   "source": [
    "// Pre Decrement\t\n",
    "// Decrease Value By 1. var = var - 1 Expression value is var-\n",
    "num2 = --num1; // it substract 1 in the give varibale\n",
    "print(num2);"
   ]
  },
  {
   "cell_type": "code",
   "execution_count": 5,
   "metadata": {},
   "outputs": [
    {
     "name": "stdout",
     "output_type": "stream",
     "text": [
      "0\n"
     ]
    }
   ],
   "source": [
    "// Post Increment\t\n",
    "// Increase Value By 1. var = var + 1 Expression value is var\n",
    "num2 = num1++;\n",
    "print(num2); "
   ]
  },
  {
   "cell_type": "code",
   "execution_count": 6,
   "metadata": {},
   "outputs": [
    {
     "name": "stdout",
     "output_type": "stream",
     "text": [
      "1\n"
     ]
    }
   ],
   "source": [
    "// Post Decrement\n",
    "// Decrease Value By 1. var = var - 1 Expression value is var\n",
    "\n",
    "num2 = num1--;\n",
    "print(num2);"
   ]
  }
 ],
 "metadata": {
  "kernelspec": {
   "display_name": "Dart",
   "language": "",
   "name": "jupyterdartkernel"
  },
  "language_info": {
   "file_extension": "dart",
   "mimetype": "application/dart",
   "name": "dart"
  }
 },
 "nbformat": 4,
 "nbformat_minor": 2
}
