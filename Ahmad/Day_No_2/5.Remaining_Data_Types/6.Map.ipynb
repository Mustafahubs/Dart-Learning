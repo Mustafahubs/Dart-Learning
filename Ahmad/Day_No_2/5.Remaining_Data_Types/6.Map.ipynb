{
 "cells": [
  {
   "cell_type": "markdown",
   "metadata": {},
   "source": [
    "map like python dict"
   ]
  },
  {
   "cell_type": "code",
   "execution_count": 1,
   "metadata": {},
   "outputs": [
    {
     "name": "stdout",
     "output_type": "stream",
     "text": []
    }
   ],
   "source": [
    "Map<String, dynamic> myDetails = {\n",
    "   'name': 'Muhammad Ahmad',\n",
    "   'address': 'Pakistan',\n",
    "   'fathername': 'Muhammad Altaf'\n",
    "};"
   ]
  },
  {
   "cell_type": "code",
   "execution_count": 3,
   "metadata": {},
   "outputs": [
    {
     "name": "stdout",
     "output_type": "stream",
     "text": [
      "{name: Muhammad Ahmad, address: Pakistan, fathername: Muhammad Altaf}\n",
      "_Map<String, dynamic>\n"
     ]
    }
   ],
   "source": [
    "print(myDetails);\n",
    "print(myDetails.runtimeType);"
   ]
  },
  {
   "cell_type": "markdown",
   "metadata": {},
   "source": [
    "### accessing the map in dart"
   ]
  },
  {
   "cell_type": "code",
   "execution_count": 4,
   "metadata": {},
   "outputs": [
    {
     "name": "stdout",
     "output_type": "stream",
     "text": [
      "Muhammad Ahmad\n"
     ]
    }
   ],
   "source": [
    "var name = myDetails['name'];\n",
    "print(name);"
   ]
  }
 ],
 "metadata": {
  "kernelspec": {
   "display_name": "Dart",
   "language": "",
   "name": "jupyterdartkernel"
  },
  "language_info": {
   "file_extension": "dart",
   "mimetype": "application/dart",
   "name": "dart"
  }
 },
 "nbformat": 4,
 "nbformat_minor": 2
}
