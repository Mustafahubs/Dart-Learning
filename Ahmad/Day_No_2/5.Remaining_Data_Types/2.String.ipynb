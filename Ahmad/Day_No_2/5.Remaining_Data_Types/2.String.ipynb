{
 "cells": [
  {
   "cell_type": "markdown",
   "metadata": {},
   "source": [
    "#### raw string in dart"
   ]
  },
  {
   "cell_type": "code",
   "execution_count": 1,
   "metadata": {},
   "outputs": [
    {
     "name": "stdout",
     "output_type": "stream",
     "text": []
    }
   ],
   "source": [
    "var price = 2.0;"
   ]
  },
  {
   "cell_type": "code",
   "execution_count": 2,
   "metadata": {},
   "outputs": [
    {
     "name": "stdout",
     "output_type": "stream",
     "text": []
    }
   ],
   "source": [
    "String withoutRawString1 = \"The value of prize is \\t $price\"; // regular String\n",
    "String withoutRawString2 = \"The value of prize is \\n $price\"; // regular String"
   ]
  },
  {
   "cell_type": "code",
   "execution_count": 3,
   "metadata": {},
   "outputs": [
    {
     "name": "stdout",
     "output_type": "stream",
     "text": [
      "The value of prize is \t 2.0\n",
      "\n",
      "The value of prize is \n",
      " 2.0\n"
     ]
    }
   ],
   "source": [
    "// without raw string \\t or \\n are works when we run the code\n",
    "\n",
    "// check this\n",
    "print(withoutRawString1);\n",
    "print('');\n",
    "print(withoutRawString2); "
   ]
  },
  {
   "cell_type": "code",
   "execution_count": 4,
   "metadata": {},
   "outputs": [
    {
     "name": "stdout",
     "output_type": "stream",
     "text": [
      "The value of prize is \\t $price\n"
     ]
    }
   ],
   "source": [
    "// String withRawString = r\"The value of prize is \\t $price\"; // raw String\n",
    "// Some code...\n",
    "String with_raw_string = r\"The value of prize is \\t $price\"; // raw String\n",
    "print(with_raw_string); // let see the \\t or \\n not working in raw string"
   ]
  },
  {
   "cell_type": "code",
   "execution_count": null,
   "metadata": {},
   "outputs": [],
   "source": []
  },
  {
   "cell_type": "markdown",
   "metadata": {},
   "source": [
    "#### Convert string to integer and double in dart"
   ]
  },
  {
   "cell_type": "markdown",
   "metadata": {},
   "source": [
    "// method\n",
    "\n",
    "1. int.parse(string_Value)\n",
    "2. double.parse(string_Value)\n"
   ]
  },
  {
   "cell_type": "code",
   "execution_count": 5,
   "metadata": {},
   "outputs": [
    {
     "name": "stdout",
     "output_type": "stream",
     "text": [
      "5\n",
      "\n",
      "10.0\n"
     ]
    }
   ],
   "source": [
    "// let use these methods:-\n",
    "\n",
    "// 1. int.parse()\n",
    "// 2. double.parse(string_Value)\n",
    "String given_Str_Value = '5';\n",
    "String given_Str_Value2 = '10.0';\n",
    "\n",
    "int convert_Nums = int.parse(given_Str_Value);\n",
    "double convert_double = double.parse(given_Str_Value2);\n",
    "print(convert_Nums);\n",
    "print('');\n",
    "print(convert_double);"
   ]
  },
  {
   "cell_type": "markdown",
   "metadata": {},
   "source": [
    "#### how to check type in dart?"
   ]
  },
  {
   "cell_type": "code",
   "execution_count": 6,
   "metadata": {},
   "outputs": [
    {
     "name": "stdout",
     "output_type": "stream",
     "text": []
    }
   ],
   "source": [
    "// data type check method\n",
    "// given_value.runtimeType"
   ]
  },
  {
   "cell_type": "code",
   "execution_count": 7,
   "metadata": {},
   "outputs": [
    {
     "name": "stdout",
     "output_type": "stream",
     "text": [
      "convert_Nums Type:- int\n",
      "\n",
      "convert_Nums Type:- double\n"
     ]
    }
   ],
   "source": [
    "print('convert_Nums Type:- ${convert_Nums.runtimeType}');\n",
    "print('');\n",
    "print('convert_Nums Type:- ${convert_double.runtimeType}');"
   ]
  },
  {
   "cell_type": "code",
   "execution_count": null,
   "metadata": {},
   "outputs": [],
   "source": []
  },
  {
   "cell_type": "markdown",
   "metadata": {},
   "source": [
    "Convet integer or double to string"
   ]
  },
  {
   "cell_type": "code",
   "execution_count": 13,
   "metadata": {},
   "outputs": [
    {
     "name": "stdout",
     "output_type": "stream",
     "text": []
    }
   ],
   "source": [
    "// if we want to convert int or double into string then we use toString method.\n",
    "\n",
    "// toString"
   ]
  },
  {
   "cell_type": "code",
   "execution_count": 12,
   "metadata": {},
   "outputs": [
    {
     "name": "stdout",
     "output_type": "stream",
     "text": [
      "56\n",
      "String\n"
     ]
    }
   ],
   "source": [
    "int given_Int = 56;\n",
    "String convert_Str = given_Int.toString();\n",
    "\n",
    "// results\n",
    "\n",
    "print(convert_Str);\n",
    "print(convert_Str.runtimeType);"
   ]
  },
  {
   "cell_type": "code",
   "execution_count": 17,
   "metadata": {},
   "outputs": [
    {
     "name": "stdout",
     "output_type": "stream",
     "text": [
      "Convert Type String\n"
     ]
    }
   ],
   "source": [
    "double given_Value = 10.5;\n",
    "String convert_str = given_Value.toString();\n",
    "\n",
    "print('Convert Type ${convert_str.runtimeType}');\n"
   ]
  },
  {
   "cell_type": "markdown",
   "metadata": {},
   "source": [
    "Convert double to int"
   ]
  },
  {
   "cell_type": "code",
   "execution_count": 19,
   "metadata": {},
   "outputs": [
    {
     "name": "stdout",
     "output_type": "stream",
     "text": [
      "20\n",
      "int\n"
     ]
    }
   ],
   "source": [
    "double given_value = 20.5;\n",
    "\n",
    "int convert_Double = given_value.toInt();\n",
    "\n",
    "print(convert_Double);\n",
    "print(convert_Double.runtimeType);"
   ]
  }
 ],
 "metadata": {
  "kernelspec": {
   "display_name": "Dart",
   "language": "",
   "name": "jupyterdartkernel"
  },
  "language_info": {
   "file_extension": "dart",
   "mimetype": "application/dart",
   "name": "dart"
  }
 },
 "nbformat": 4,
 "nbformat_minor": 2
}
