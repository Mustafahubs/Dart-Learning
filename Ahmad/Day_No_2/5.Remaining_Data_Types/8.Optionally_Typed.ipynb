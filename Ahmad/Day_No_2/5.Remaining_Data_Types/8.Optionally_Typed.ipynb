{
 "cells": [
  {
   "cell_type": "markdown",
   "metadata": {},
   "source": [
    "Statically Typed"
   ]
  },
  {
   "cell_type": "code",
   "execution_count": 2,
   "metadata": {},
   "outputs": [
    {
     "name": "stdout",
     "output_type": "stream",
     "text": []
    }
   ],
   "source": [
    "// var is Statically typed variable that we use for int, str or double values"
   ]
  },
  {
   "cell_type": "code",
   "execution_count": 1,
   "metadata": {},
   "outputs": [
    {
     "name": "stdout",
     "output_type": "stream",
     "text": [
      "50\n",
      "Hello\n",
      "5.5\n"
     ]
    }
   ],
   "source": [
    "var myVariable = 50; // we can also use int instead of var\n",
    "var myVariable2 = \"Hello\"; // we can also use str instead of var\n",
    "var myVariable3 = 5.5; // we can also use double instead of var\n",
    "\n",
    "print(myVariable);\n",
    "print(myVariable2);\n",
    "print(myVariable3);"
   ]
  },
  {
   "cell_type": "markdown",
   "metadata": {},
   "source": [
    "Dynamically Typed"
   ]
  },
  {
   "cell_type": "code",
   "execution_count": 2,
   "metadata": {},
   "outputs": [
    {
     "name": "stdout",
     "output_type": "stream",
     "text": []
    }
   ],
   "source": [
    "// dynamically typed if the data type of variables is known at run time."
   ]
  },
  {
   "cell_type": "code",
   "execution_count": 3,
   "metadata": {},
   "outputs": [
    {
     "name": "stdout",
     "output_type": "stream",
     "text": [
      "50\n",
      "Hello World\n"
     ]
    }
   ],
   "source": [
    "dynamic myVar = 50;\n",
    "dynamic myVar2 = \"Hello World\";\n",
    "print(myVar);\n",
    "print(myVar2);"
   ]
  }
 ],
 "metadata": {
  "kernelspec": {
   "display_name": "Dart",
   "language": "",
   "name": "jupyterdartkernel"
  },
  "language_info": {
   "file_extension": "dart",
   "mimetype": "application/dart",
   "name": "dart"
  }
 },
 "nbformat": 4,
 "nbformat_minor": 2
}
