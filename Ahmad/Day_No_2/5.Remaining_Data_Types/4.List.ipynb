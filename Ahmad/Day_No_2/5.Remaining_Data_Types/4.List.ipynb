{
 "cells": [
  {
   "cell_type": "markdown",
   "metadata": {},
   "source": [
    "List"
   ]
  },
  {
   "cell_type": "markdown",
   "metadata": {},
   "source": [
    "If you want to write just string item in the list"
   ]
  },
  {
   "cell_type": "code",
   "execution_count": 1,
   "metadata": {},
   "outputs": [
    {
     "name": "stdout",
     "output_type": "stream",
     "text": [
      "[Mouse, Pad, Computer, Keyboard]\n",
      "Type of Variable:- List<String>\n"
     ]
    }
   ],
   "source": [
    "List <String> product_List = ['Mouse','Pad','Computer','Keyboard'];\n",
    "\n",
    "print(product_List);\n",
    "print('Type of Variable:- ${product_List.runtimeType}');"
   ]
  },
  {
   "cell_type": "markdown",
   "metadata": {},
   "source": [
    "If you want to write integers in the list"
   ]
  },
  {
   "cell_type": "code",
   "execution_count": 4,
   "metadata": {},
   "outputs": [
    {
     "name": "stdout",
     "output_type": "stream",
     "text": [
      "[2, 4, 6, 8]\n",
      "type of variable:- List<int>\n"
     ]
    }
   ],
   "source": [
    "List <int> list_of_integer = [2,4,6,8];\n",
    "\n",
    "print(list_of_integer);\n",
    "print('type of variable:- ${list_of_integer.runtimeType}');"
   ]
  },
  {
   "cell_type": "markdown",
   "metadata": {},
   "source": [
    "If we want to write mix items in the int:- "
   ]
  },
  {
   "cell_type": "code",
   "execution_count": 3,
   "metadata": {},
   "outputs": [
    {
     "name": "stdout",
     "output_type": "stream",
     "text": [
      "[Mouse, Pad, Computer, Keyboard, 1, 2, 3, 4]\n",
      "type of variable:- List<dynamic>\n"
     ]
    }
   ],
   "source": [
    "List <dynamic> list_of_items = ['Mouse','Pad','Computer','Keyboard',1,2,3,4];\n",
    "\n",
    "print(list_of_items);\n",
    "print('type of variable:- ${list_of_items.runtimeType}');"
   ]
  },
  {
   "cell_type": "markdown",
   "metadata": {},
   "source": [
    "Another method of write listing in dart"
   ]
  },
  {
   "cell_type": "code",
   "execution_count": 5,
   "metadata": {},
   "outputs": [
    {
     "name": "stdout",
     "output_type": "stream",
     "text": [
      "[Mouse, Pad, Computer, Keyboard, 1, 2, 3, 4]\n",
      "type of variable:- List<Object>\n"
     ]
    }
   ],
   "source": [
    "var list_items = ['Mouse', 'Pad', 'Computer', 'Keyboard', 1, 2, 3, 4];\n",
    "\n",
    "print(list_items);\n",
    "print('type of variable:- ${list_items.runtimeType}');"
   ]
  },
  {
   "cell_type": "code",
   "execution_count": null,
   "metadata": {},
   "outputs": [],
   "source": []
  },
  {
   "cell_type": "markdown",
   "metadata": {},
   "source": [
    "How to check the length of list?"
   ]
  },
  {
   "cell_type": "code",
   "execution_count": 8,
   "metadata": {},
   "outputs": [
    {
     "name": "stdout",
     "output_type": "stream",
     "text": [
      "8\n",
      "Type of variable: int\n"
     ]
    }
   ],
   "source": [
    "List<dynamic> list_Items = ['Mouse', 'Pad', 'Computer', 'Keyboard', 1, 2, 3, 4];\n",
    "\n",
    "int length_Of_list_items = list_Items.length;\n",
    "\n",
    "print(length_Of_list_items);\n",
    "print('Type of variable: ${length_Of_list_items.runtimeType}');"
   ]
  },
  {
   "cell_type": "markdown",
   "metadata": {},
   "source": [
    "#### Accessing of list items"
   ]
  },
  {
   "cell_type": "markdown",
   "metadata": {},
   "source": [
    "##### positive accessing"
   ]
  },
  {
   "cell_type": "code",
   "execution_count": 11,
   "metadata": {},
   "outputs": [
    {
     "name": "stdout",
     "output_type": "stream",
     "text": []
    }
   ],
   "source": [
    "List<dynamic> new_List = ['Apple','Banana','Orange',2,4,8];\n",
    "\n",
    "var first_Items = new_List[0];\n",
    "var second_Items = new_List[1];\n",
    "var third_Items = new_List[2];"
   ]
  },
  {
   "cell_type": "code",
   "execution_count": 12,
   "metadata": {},
   "outputs": [
    {
     "name": "stdout",
     "output_type": "stream",
     "text": [
      "Apple\n",
      "\n",
      "Banana\n",
      "\n",
      "Orange\n",
      "\n"
     ]
    }
   ],
   "source": [
    "print(first_Items);\n",
    "print('');\n",
    "print(second_Items);\n",
    "print('');\n",
    "print(third_Items);\n",
    "print('');"
   ]
  },
  {
   "cell_type": "markdown",
   "metadata": {},
   "source": [
    "##### Negative accessing"
   ]
  },
  {
   "cell_type": "code",
   "execution_count": 13,
   "metadata": {},
   "outputs": [
    {
     "name": "stdout",
     "output_type": "stream",
     "text": [
      "8\n"
     ]
    }
   ],
   "source": [
    "var last_Items = new_List[new_List.length - 1];\n",
    "\n",
    "print(last_Items);"
   ]
  },
  {
   "cell_type": "code",
   "execution_count": 14,
   "metadata": {},
   "outputs": [
    {
     "name": "stdout",
     "output_type": "stream",
     "text": [
      "Orange\n"
     ]
    }
   ],
   "source": [
    "var third_Item_ = new_List[new_List.length - 4];\n",
    "\n",
    "print(third_Item_);"
   ]
  }
 ],
 "metadata": {
  "kernelspec": {
   "display_name": "Dart",
   "language": "",
   "name": "jupyterdartkernel"
  },
  "language_info": {
   "file_extension": "dart",
   "mimetype": "application/dart",
   "name": "dart"
  }
 },
 "nbformat": 4,
 "nbformat_minor": 2
}
