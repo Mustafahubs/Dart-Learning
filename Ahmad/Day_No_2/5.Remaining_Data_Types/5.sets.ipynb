{
 "cells": [
  {
   "cell_type": "markdown",
   "metadata": {},
   "source": [
    "sets"
   ]
  },
  {
   "cell_type": "code",
   "execution_count": 2,
   "metadata": {},
   "outputs": [
    {
     "name": "stdout",
     "output_type": "stream",
     "text": []
    }
   ],
   "source": [
    "// sets just allow the the unique values"
   ]
  },
  {
   "cell_type": "code",
   "execution_count": 1,
   "metadata": {},
   "outputs": [
    {
     "name": "stdout",
     "output_type": "stream",
     "text": [
      "{Sun, Mon, Tue, Wed, Thu, Fri, Sat}\n"
     ]
    }
   ],
   "source": [
    "Set<String> weekday = {\"Sun\", \"Mon\",\"Mon\", \"Tue\", \"Wed\", \"Thu\", \"Fri\", \"Sat\"};\n",
    "print(weekday);"
   ]
  }
 ],
 "metadata": {
  "kernelspec": {
   "display_name": "Dart",
   "language": "",
   "name": "jupyterdartkernel"
  },
  "language_info": {
   "file_extension": "dart",
   "mimetype": "application/dart",
   "name": "dart"
  }
 },
 "nbformat": 4,
 "nbformat_minor": 2
}
