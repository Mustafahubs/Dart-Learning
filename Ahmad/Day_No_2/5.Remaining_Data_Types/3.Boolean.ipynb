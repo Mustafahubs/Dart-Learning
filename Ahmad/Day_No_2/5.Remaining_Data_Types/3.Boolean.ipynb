{
 "cells": [
  {
   "cell_type": "markdown",
   "metadata": {},
   "source": [
    "Boolean in dart"
   ]
  },
  {
   "cell_type": "code",
   "execution_count": 1,
   "metadata": {},
   "outputs": [
    {
     "name": "stdout",
     "output_type": "stream",
     "text": []
    }
   ],
   "source": [
    "// true;\n",
    "// false;"
   ]
  },
  {
   "cell_type": "code",
   "execution_count": 4,
   "metadata": {},
   "outputs": [
    {
     "name": "stdout",
     "output_type": "stream",
     "text": [
      "false\n",
      "Type bool\n"
     ]
    }
   ],
   "source": [
    "var a = 5;\n",
    "var b = 6;\n",
    "\n",
    "bool result = a == b;\n",
    "\n",
    "print(result);\n",
    "print('Type ${result.runtimeType}');\n"
   ]
  },
  {
   "cell_type": "code",
   "execution_count": null,
   "metadata": {},
   "outputs": [],
   "source": []
  },
  {
   "cell_type": "code",
   "execution_count": 5,
   "metadata": {},
   "outputs": [
    {
     "name": "stdout",
     "output_type": "stream",
     "text": [
      "true\n",
      "Type bool\n"
     ]
    }
   ],
   "source": [
    "var x = 5;\n",
    "var y = 6;\n",
    "\n",
    "bool results = x < y;\n",
    "\n",
    "print(results);\n",
    "print('Type ${results.runtimeType}');\n"
   ]
  }
 ],
 "metadata": {
  "kernelspec": {
   "display_name": "Dart",
   "language": "",
   "name": "jupyterdartkernel"
  },
  "language_info": {
   "file_extension": "dart",
   "mimetype": "application/dart",
   "name": "dart"
  }
 },
 "nbformat": 4,
 "nbformat_minor": 2
}
