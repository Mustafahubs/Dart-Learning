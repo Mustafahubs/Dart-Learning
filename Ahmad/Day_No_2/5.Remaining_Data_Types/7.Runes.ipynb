{
 "cells": [
  {
   "cell_type": "markdown",
   "metadata": {},
   "source": [
    "(runes) dart keyword like python keyword (ord)"
   ]
  },
  {
   "cell_type": "code",
   "execution_count": 3,
   "metadata": {},
   "outputs": [
    {
     "name": "stdout",
     "output_type": "stream",
     "text": [
      "(97)\n"
     ]
    }
   ],
   "source": [
    "String value = \"a\";\n",
    "print(value.runes);"
   ]
  },
  {
   "cell_type": "code",
   "execution_count": 4,
   "metadata": {},
   "outputs": [
    {
     "name": "stdout",
     "output_type": "stream",
     "text": [
      "(122)\n"
     ]
    }
   ],
   "source": [
    "print('z'.runes);"
   ]
  },
  {
   "cell_type": "code",
   "execution_count": null,
   "metadata": {},
   "outputs": [],
   "source": []
  }
 ],
 "metadata": {
  "kernelspec": {
   "display_name": "Dart",
   "language": "",
   "name": "jupyterdartkernel"
  },
  "language_info": {
   "file_extension": "dart",
   "mimetype": "application/dart",
   "name": "dart"
  }
 },
 "nbformat": 4,
 "nbformat_minor": 2
}
