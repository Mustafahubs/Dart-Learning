{
 "cells": [
  {
   "cell_type": "markdown",
   "metadata": {},
   "source": [
    "Write a program to print your name in Dart."
   ]
  },
  {
   "cell_type": "code",
   "execution_count": 2,
   "metadata": {},
   "outputs": [
    {
     "name": "stdout",
     "output_type": "stream",
     "text": [
      "Muhammad Ahmad\n"
     ]
    }
   ],
   "source": [
    "String my_Name = 'Muhammad Ahmad';\n",
    "print(my_Name);"
   ]
  },
  {
   "cell_type": "markdown",
   "metadata": {},
   "source": [
    "Write a program to print Hello I am “John Doe” and Hello I’am “John Doe” with single and double quotes."
   ]
  },
  {
   "cell_type": "code",
   "execution_count": 4,
   "metadata": {},
   "outputs": [
    {
     "name": "stdout",
     "output_type": "stream",
     "text": [
      "Hello I am \"Jhon Doe\".\n",
      "Hello I' am \"John Doe\".\n"
     ]
    }
   ],
   "source": [
    "String text1 = 'Hello I am \"Jhon Doe\".';\n",
    "String text2 = '''Hello I' am \"John Doe\".''';\n",
    "\n",
    "print(text1);\n",
    "print(text2);"
   ]
  },
  {
   "cell_type": "markdown",
   "metadata": {},
   "source": [
    "Declare constant type of int set value 7."
   ]
  },
  {
   "cell_type": "code",
   "execution_count": 1,
   "metadata": {},
   "outputs": [
    {
     "name": "stdout",
     "output_type": "stream",
     "text": [
      "7\n",
      "int\n"
     ]
    }
   ],
   "source": [
    "const int number = 7;\n",
    "\n",
    "print(number);\n",
    "print(number.runtimeType);"
   ]
  },
  {
   "cell_type": "markdown",
   "metadata": {},
   "source": [
    "Write a program in Dart that finds simple interest. Formula= (p * t * r) / 100"
   ]
  },
  {
   "cell_type": "code",
   "execution_count": 6,
   "metadata": {},
   "outputs": [
    {
     "name": "stdout",
     "output_type": "stream",
     "text": [
      "1.0\n"
     ]
    }
   ],
   "source": [
    "int p = 10;\n",
    "int t = 5;\n",
    "int r = 2;\n",
    "\n",
    "var results = (p * t * r) / 100;\n",
    "\n",
    "print(results);"
   ]
  },
  {
   "cell_type": "markdown",
   "metadata": {},
   "source": [
    "Write a program to print a square of a number using user input."
   ]
  },
  {
   "cell_type": "code",
   "execution_count": 3,
   "metadata": {},
   "outputs": [
    {
     "name": "stdout",
     "output_type": "stream",
     "text": [
      "5.0\n"
     ]
    }
   ],
   "source": [
    "import 'dart:math';\n",
    "int given_Number = 25;\n",
    "\n",
    "var result = sqrt(given_Number); // square root of user input\n",
    "\n",
    "print(result);\n"
   ]
  },
  {
   "cell_type": "markdown",
   "metadata": {},
   "source": [
    "Write a program to print full name of a from first name and last name using user input."
   ]
  },
  {
   "cell_type": "code",
   "execution_count": 4,
   "metadata": {},
   "outputs": [
    {
     "name": "stdout",
     "output_type": "stream",
     "text": [
      "Muhammad Ahmad\n"
     ]
    }
   ],
   "source": [
    "String first_name = 'Muhammad';\n",
    "String last_name = 'Ahmad';\n",
    "\n",
    "String full_Name = \"$first_name $last_name\";\n",
    "\n",
    "print(full_Name);"
   ]
  },
  {
   "cell_type": "markdown",
   "metadata": {},
   "source": [
    "Write a program to find quotient and remainder of two integers."
   ]
  },
  {
   "cell_type": "code",
   "execution_count": 1,
   "metadata": {},
   "outputs": [
    {
     "name": "stdout",
     "output_type": "stream",
     "text": [
      "quotient or Division:-  5\n",
      "remainder:-  0\n"
     ]
    }
   ],
   "source": [
    "int num1 = 10;\n",
    "int num2 = 2;\n",
    "\n",
    "print('quotient or Division:-  ${num1 ~/ num2}');\n",
    "print('remainder:-  ${num1 % num2}');"
   ]
  },
  {
   "cell_type": "markdown",
   "metadata": {},
   "source": [
    "Write a program to swap two numbers."
   ]
  },
  {
   "cell_type": "code",
   "execution_count": null,
   "metadata": {},
   "outputs": [],
   "source": []
  },
  {
   "cell_type": "markdown",
   "metadata": {},
   "source": [
    "Write a program in Dart to remove all whitespaces from String."
   ]
  },
  {
   "cell_type": "code",
   "execution_count": 2,
   "metadata": {},
   "outputs": [
    {
     "name": "stdout",
     "output_type": "stream",
     "text": [
      "  \n",
      "  This is a Apple. \n",
      "   \n",
      "\n"
     ]
    }
   ],
   "source": [
    "String text = '  \\n  This is a Apple. \\n   \\n';\n",
    "\n",
    "print(text);"
   ]
  },
  {
   "cell_type": "code",
   "execution_count": 3,
   "metadata": {},
   "outputs": [
    {
     "name": "stdout",
     "output_type": "stream",
     "text": [
      "This is a Apple.\n"
     ]
    }
   ],
   "source": [
    "print(text.trim());"
   ]
  },
  {
   "cell_type": "markdown",
   "metadata": {},
   "source": [
    "Write a Dart program to convert String to int."
   ]
  },
  {
   "cell_type": "code",
   "execution_count": 1,
   "metadata": {},
   "outputs": [
    {
     "name": "stdout",
     "output_type": "stream",
     "text": [
      "9\n",
      "int\n"
     ]
    }
   ],
   "source": [
    "String str_Num = '9';\n",
    "int result = int.parse(str_Num);\n",
    "\n",
    "print(result);\n",
    "print(result.runtimeType);"
   ]
  },
  {
   "cell_type": "markdown",
   "metadata": {},
   "source": [
    "Suppose, you often go to restaurant with friends and you have to split amount of bill. Write a program to calculate split amount of bill. Formula= (total bill amount) / number of people"
   ]
  },
  {
   "cell_type": "code",
   "execution_count": 2,
   "metadata": {},
   "outputs": [
    {
     "name": "stdout",
     "output_type": "stream",
     "text": [
      "100.0\n"
     ]
    }
   ],
   "source": [
    "int total_bill = 500;\n",
    "int total_friends = 5;\n",
    "\n",
    "var results = total_bill / total_friends;\n",
    "\n",
    "print(results);"
   ]
  },
  {
   "cell_type": "markdown",
   "metadata": {},
   "source": [
    "Suppose, your distance to office from home is 25 km and you travel 40 km per hour. Write a program to calculate time taken to reach office in minutes. Formula= (distance) / (speed)"
   ]
  },
  {
   "cell_type": "code",
   "execution_count": 3,
   "metadata": {},
   "outputs": [
    {
     "name": "stdout",
     "output_type": "stream",
     "text": [
      "37.5\n"
     ]
    }
   ],
   "source": [
    "int distance = 25;\n",
    "int speed = 40;\n",
    "// apply the formula \n",
    "var half_results = distance / speed;\n",
    "// convert the half results into the mintues as the requirements\n",
    "var final_results =  half_results * 60;\n",
    "\n",
    "print(final_results);"
   ]
  }
 ],
 "metadata": {
  "kernelspec": {
   "display_name": "Dart",
   "language": "",
   "name": "jupyterdartkernel"
  },
  "language_info": {
   "file_extension": "dart",
   "mimetype": "application/dart",
   "name": "dart"
  }
 },
 "nbformat": 4,
 "nbformat_minor": 2
}
