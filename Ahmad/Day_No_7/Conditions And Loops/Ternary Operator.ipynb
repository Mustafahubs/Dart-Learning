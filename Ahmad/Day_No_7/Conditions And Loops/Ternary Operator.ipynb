{
 "cells": [
  {
   "cell_type": "markdown",
   "metadata": {},
   "source": [
    "Ternary Operator"
   ]
  },
  {
   "cell_type": "markdown",
   "metadata": {},
   "source": [
    "Syntax:-\n",
    "        condition ? exprIfTrue : exprIfFalse"
   ]
  },
  {
   "cell_type": "markdown",
   "metadata": {},
   "source": [
    "Note: The ternary operator takes a condition and returns one of two values, depending upon the condition’s boolean value, i.e., true or false."
   ]
  },
  {
   "cell_type": "code",
   "execution_count": 1,
   "metadata": {},
   "outputs": [
    {
     "name": "stdout",
     "output_type": "stream",
     "text": [
      "The greatest number is 15\n"
     ]
    }
   ],
   "source": [
    "// first try with if else conditions\n",
    "\n",
    "int num1 = 10;\n",
    "int num2 = 15;\n",
    "int max = 0;\n",
    "if(num1> num2){\n",
    "  max = num1;\n",
    "}else {\n",
    "  max = num2;\n",
    "}\n",
    "print(\"The greatest number is $max\");"
   ]
  },
  {
   "cell_type": "code",
   "execution_count": 2,
   "metadata": {},
   "outputs": [
    {
     "name": "stdout",
     "output_type": "stream",
     "text": [
      "The greatest number is 15\n"
     ]
    }
   ],
   "source": [
    "// now try with Ternary Operator\n",
    "// condition ? exprIfTrue : exprIfFalse\n",
    "int maximum = (num1 > num2) ? num1 : num2;\n",
    "print(\"The greatest number is $maximum\");"
   ]
  },
  {
   "cell_type": "code",
   "execution_count": 3,
   "metadata": {},
   "outputs": [
    {
     "ename": "ERROR",
     "evalue": "error",
     "output_type": "error",
     "traceback": [
      "/C:/Users/MUHAMM~1/AppData/Local/Temp/tmpab2xzqi6/main.dart:6:10: Error: Can't return a value from a void function.",
      "  return results;",
      "         ^"
     ]
    }
   ],
   "source": [
    "void squareRoot(int num1) {\n",
    "  var results = num1 * 2;\n",
    "  return results;\n",
    "}\n"
   ]
  },
  {
   "cell_type": "code",
   "execution_count": null,
   "metadata": {},
   "outputs": [],
   "source": []
  },
  {
   "cell_type": "code",
   "execution_count": 1,
   "metadata": {},
   "outputs": [
    {
     "name": "stdout",
     "output_type": "stream",
     "text": [
      "2\n"
     ]
    }
   ],
   "source": [
    "double number = 2.0;\n",
    "int newNumber = number.toInt();\n",
    "\n",
    "print(newNumber);"
   ]
  },
  {
   "cell_type": "code",
   "execution_count": 2,
   "metadata": {},
   "outputs": [
    {
     "name": "stdout",
     "output_type": "stream",
     "text": [
      "true\n"
     ]
    }
   ],
   "source": [
    "if (6 > 4) {\n",
    "  print(true);\n",
    "}"
   ]
  },
  {
   "cell_type": "code",
   "execution_count": null,
   "metadata": {},
   "outputs": [],
   "source": []
  },
  {
   "cell_type": "code",
   "execution_count": 3,
   "metadata": {},
   "outputs": [
    {
     "ename": "ERROR",
     "evalue": "error",
     "output_type": "error",
     "traceback": [
      "/C:/Users/MUHAMM~1/AppData/Local/Temp/tmpr0d_ye4f/main.dart:13:22: Error: Too few positional arguments: 2 required, 0 given.",
      "print(given_List.fold());",
      "                     ^"
     ]
    }
   ],
   "source": [
    "List given_List = [1,2,3,4,5];\n",
    "\n",
    "print(given_List.fold());"
   ]
  },
  {
   "cell_type": "code",
   "execution_count": 2,
   "metadata": {},
   "outputs": [
    {
     "ename": "ERROR",
     "evalue": "error",
     "output_type": "error",
     "traceback": [
      "/C:/Users/MUHAMM~1/AppData/Local/Temp/tmpjk834nq8/main.dart:11:11: Error: 'givenList' is already declared in this scope.",
      "List<int> givenList = [1, 2, 3, 4, 5];",
      "          ^^^^^^^^^",
      "/C:/Users/MUHAMM~1/AppData/Local/Temp/tmpjk834nq8/main.dart:4:11: Context: Previous declaration of 'givenList'.",
      "List<int> givenList = [1, 2, 3, 4, 5];",
      "          ^^^^^^^^^",
      "/C:/Users/MUHAMM~1/AppData/Local/Temp/tmpjk834nq8/main.dart:13:5: Error: 'result' is already declared in this scope.",
      "int result = givenList.fold(0, (int previousValue, int element) {",
      "    ^^^^^^",
      "/C:/Users/MUHAMM~1/AppData/Local/Temp/tmpjk834nq8/main.dart:6:5: Context: Previous declaration of 'result'.",
      "int result = givenList.fold(1, (int previousValue, int element) {",
      "    ^^^^^^"
     ]
    }
   ],
   "source": [
    "List<int> givenList = [1, 2, 3, 4, 5];\n",
    "\n",
    "int result = givenList.fold(0, (int previousValue, int element) {\n",
    "    return previousValue + element;\n",
    "});\n",
    "\n",
    "print(result);"
   ]
  }
 ],
 "metadata": {
  "kernelspec": {
   "display_name": "Dart",
   "language": "",
   "name": "jupyterdartkernel"
  },
  "language_info": {
   "file_extension": "dart",
   "mimetype": "application/dart",
   "name": "dart"
  }
 },
 "nbformat": 4,
 "nbformat_minor": 2
}
