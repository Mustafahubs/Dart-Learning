{
 "cells": [
  {
   "cell_type": "markdown",
   "metadata": {},
   "source": [
    "Switch Case In Dart"
   ]
  },
  {
   "cell_type": "code",
   "execution_count": 2,
   "metadata": {},
   "outputs": [
    {
     "name": "stdout",
     "output_type": "stream",
     "text": []
    }
   ],
   "source": [
    "// for example if we use the if else conditions in that functions\n",
    "var selected_day = 5;"
   ]
  },
  {
   "cell_type": "code",
   "execution_count": 5,
   "metadata": {},
   "outputs": [
    {
     "name": "stdout",
     "output_type": "stream",
     "text": [
      "Selected day is Friday.\n"
     ]
    }
   ],
   "source": [
    "if (selected_day == 1) {\n",
    "  print('Selected day is Monday.');\n",
    "} else if (selected_day == 2) {\n",
    "  print('Selected day is Tuesday.');\n",
    "} else if (selected_day == 3) {\n",
    "  print('Selected day is Wensday.');\n",
    "} else if (selected_day == 4) {\n",
    "  print('Selected day is Thursday.');\n",
    "} else if (selected_day == 5) {\n",
    "  print('Selected day is Friday.');\n",
    "} else if (selected_day == 6) {\n",
    "  print('Selected day is Saturday.');\n",
    "} else if (selected_day == 7) {\n",
    "  print('Selected day is Sunday.');\n",
    "} else {\n",
    "  print('Invalid Selected day!');\n",
    "}\n"
   ]
  },
  {
   "cell_type": "code",
   "execution_count": 6,
   "metadata": {},
   "outputs": [
    {
     "name": "stdout",
     "output_type": "stream",
     "text": [
      "Day is Thursday.\n"
     ]
    }
   ],
   "source": [
    "// lets try this same condition with switch case.\n",
    "\n",
    "switch (selected_day) {\n",
    "  case 1:\n",
    "      print(\"Day is Sunday.\");\n",
    "      break;\n",
    "  case 2:\n",
    "      print(\"Day is Monday.\");\n",
    "    break;\n",
    "  case 3:\n",
    "    print(\"Day is Tuesday.\");\n",
    "    break;\n",
    "  case 4:\n",
    "      print(\"Day is Wednesday.\");\n",
    "    break;\n",
    "  case 5:\n",
    "      print(\"Day is Thursday.\");\n",
    "    break;\n",
    "  case 6:\n",
    "      print(\"Day is Friday.\");\n",
    "    break;\n",
    "  case 7:\n",
    "      print(\"Day is Saturday.\");\n",
    "    break;\n",
    "  default:\n",
    "      print(\"Invalid Weekday.\");\n",
    "    break;\n",
    "}\n"
   ]
  },
  {
   "cell_type": "code",
   "execution_count": null,
   "metadata": {},
   "outputs": [],
   "source": []
  }
 ],
 "metadata": {
  "kernelspec": {
   "display_name": "Dart",
   "language": "",
   "name": "jupyterdartkernel"
  },
  "language_info": {
   "file_extension": "dart",
   "mimetype": "application/dart",
   "name": "dart"
  }
 },
 "nbformat": 4,
 "nbformat_minor": 2
}
