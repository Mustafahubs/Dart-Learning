{
 "cells": [
  {
   "cell_type": "markdown",
   "metadata": {},
   "source": [
    "1. For Loop"
   ]
  },
  {
   "cell_type": "code",
   "execution_count": null,
   "metadata": {},
   "outputs": [],
   "source": [
    "var given_String = 'ahmad';"
   ]
  },
  {
   "cell_type": "code",
   "execution_count": 1,
   "metadata": {},
   "outputs": [
    {
     "name": "stdout",
     "output_type": "stream",
     "text": [
      "1\n",
      "2\n",
      "3\n",
      "4\n",
      "5\n",
      "6\n",
      "7\n",
      "8\n",
      "9\n",
      "10\n"
     ]
    }
   ],
   "source": [
    "\n",
    "for (var i = 1; i <= 10; i++) {\n",
    "  print(i);\n",
    "}\n"
   ]
  },
  {
   "cell_type": "code",
   "execution_count": 2,
   "metadata": {},
   "outputs": [
    {
     "name": "stdout",
     "output_type": "stream",
     "text": [
      "J\n",
      "h\n",
      "o\n",
      "n\n"
     ]
    }
   ],
   "source": [
    "var name = 'Jhon';\n",
    "for (var codePoint in name.runes) {\n",
    "  print(String.fromCharCode(codePoint));\n",
    "}"
   ]
  },
  {
   "cell_type": "code",
   "execution_count": 7,
   "metadata": {},
   "outputs": [
    {
     "name": "stdout",
     "output_type": "stream",
     "text": [
      "Odd Number:- 1\n",
      "Even Number:- 2\n",
      "Odd Number:- 3\n",
      "Even Number:- 4\n",
      "Odd Number:- 5\n",
      "Even Number:- 6\n",
      "Odd Number:- 7\n",
      "Even Number:- 8\n",
      "Odd Number:- 9\n",
      "Even Number:- 10\n",
      "Odd Number:- 11\n",
      "Even Number:- 12\n",
      "Odd Number:- 13\n",
      "Even Number:- 14\n",
      "Odd Number:- 15\n",
      "Even Number:- 16\n",
      "Odd Number:- 17\n",
      "Even Number:- 18\n",
      "Odd Number:- 19\n",
      "Even Number:- 20\n"
     ]
    }
   ],
   "source": [
    "// even number and odd number checker.\n",
    "\n",
    "for (int n = 1; n <= 20; n++) {\n",
    "  if (n%2 == 0) {\n",
    "    print('Even Number:- $n');\n",
    "  } else{\n",
    "    print('Odd Number:- $n');\n",
    "  }\n",
    "}"
   ]
  }
 ],
 "metadata": {
  "kernelspec": {
   "display_name": "Dart",
   "language": "",
   "name": "jupyterdartkernel"
  },
  "language_info": {
   "file_extension": "dart",
   "mimetype": "application/dart",
   "name": "dart"
  }
 },
 "nbformat": 4,
 "nbformat_minor": 2
}
