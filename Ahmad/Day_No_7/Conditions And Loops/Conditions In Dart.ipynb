{
 "cells": [
  {
   "cell_type": "markdown",
   "metadata": {},
   "source": [
    "Conditions In Dart"
   ]
  },
  {
   "cell_type": "markdown",
   "metadata": {},
   "source": [
    "1. If Condition\n",
    "2. If-Else Condition\n",
    "3. If-Else-If Condition\n",
    "4. Switch case"
   ]
  },
  {
   "cell_type": "code",
   "execution_count": 1,
   "metadata": {},
   "outputs": [
    {
     "name": "stdout",
     "output_type": "stream",
     "text": [
      "true\n"
     ]
    }
   ],
   "source": [
    "var num_1 = 10;\n",
    "var num_2 = 5;\n",
    "var num_3 = '10';\n",
    "if (num_1.runtimeType == num_2.runtimeType) {\n",
    "  print(true);\n",
    "} else {\n",
    "  print(false);\n",
    "}"
   ]
  },
  {
   "cell_type": "code",
   "execution_count": 2,
   "metadata": {},
   "outputs": [
    {
     "name": "stdout",
     "output_type": "stream",
     "text": [
      "false\n"
     ]
    }
   ],
   "source": [
    "if (num_1.runtimeType == num_3.runtimeType) {\n",
    "  print(true);\n",
    "} else {\n",
    "  print(false);\n",
    "}"
   ]
  },
  {
   "cell_type": "code",
   "execution_count": 3,
   "metadata": {},
   "outputs": [
    {
     "name": "stdout",
     "output_type": "stream",
     "text": [
      "true Num_1 and Num2 have same type\n"
     ]
    }
   ],
   "source": [
    "if (num_1.runtimeType == num_2.runtimeType) {\n",
    "  print('${true} Num_1 and Num2 have same type');\n",
    "} else if (num_1.runtimeType == num_3.runtimeType) {\n",
    "   print('${true} Num_1 and Num3 have same type');\n",
    "} else {\n",
    "  print(false);\n",
    "}"
   ]
  }
 ],
 "metadata": {
  "kernelspec": {
   "display_name": "Dart",
   "language": "",
   "name": "jupyterdartkernel"
  },
  "language_info": {
   "file_extension": "dart",
   "mimetype": "application/dart",
   "name": "dart"
  }
 },
 "nbformat": 4,
 "nbformat_minor": 2
}
