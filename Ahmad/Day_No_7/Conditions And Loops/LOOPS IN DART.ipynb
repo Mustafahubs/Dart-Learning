{
 "cells": [
  {
   "cell_type": "markdown",
   "metadata": {},
   "source": [
    "LOOPS IN DART"
   ]
  },
  {
   "cell_type": "markdown",
   "metadata": {},
   "source": [
    "1. For Loop\n",
    "2. For Each Loop\n",
    "3. While Loop\n",
    "4. Do While Loop"
   ]
  },
  {
   "cell_type": "code",
   "execution_count": 6,
   "metadata": {},
   "outputs": [
    {
     "name": "stdout",
     "output_type": "stream",
     "text": [
      "Muhammad Ahmad\n",
      "Muhammad Ahmad\n",
      "Muhammad Ahmad\n",
      "Muhammad Ahmad\n",
      "Muhammad Ahmad\n",
      "Muhammad Ahmad\n",
      "Muhammad Ahmad\n",
      "Muhammad Ahmad\n",
      "Muhammad Ahmad\n",
      "Muhammad Ahmad\n"
     ]
    }
   ],
   "source": [
    "for (int i = 0; i < 10; i++) {\n",
    "  print(\"Muhammad Ahmad\");\n",
    "}"
   ]
  },
  {
   "cell_type": "code",
   "execution_count": 4,
   "metadata": {},
   "outputs": [
    {
     "name": "stdout",
     "output_type": "stream",
     "text": [
      "5\n",
      "10\n",
      "15\n",
      "20\n",
      "25\n",
      "30\n",
      "35\n",
      "40\n",
      "45\n",
      "50\n"
     ]
    }
   ],
   "source": [
    "\n",
    "for (int x = 1; x <= 10; x++) {\n",
    "  int z = x * 5;\n",
    "  print(z);\n",
    "}\n"
   ]
  },
  {
   "cell_type": "code",
   "execution_count": null,
   "metadata": {},
   "outputs": [],
   "source": []
  },
  {
   "cell_type": "code",
   "execution_count": null,
   "metadata": {},
   "outputs": [],
   "source": []
  }
 ],
 "metadata": {
  "kernelspec": {
   "display_name": "Dart",
   "language": "",
   "name": "jupyterdartkernel"
  },
  "language_info": {
   "file_extension": "dart",
   "mimetype": "application/dart",
   "name": "dart"
  }
 },
 "nbformat": 4,
 "nbformat_minor": 2
}
