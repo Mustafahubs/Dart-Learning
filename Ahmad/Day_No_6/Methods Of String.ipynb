{
 "cells": [
  {
   "cell_type": "markdown",
   "metadata": {},
   "source": [
    "Methods Of String"
   ]
  },
  {
   "cell_type": "markdown",
   "metadata": {},
   "source": [
    "1. toLowerCase(): Converts all characters in this string to lowercase.\n",
    "2. toUpperCase(): Converts all characters in this string to uppercase.\n",
    "3. trim(): Returns the string without any leading and trailing whitespace.\n",
    "4. compareTo(): Compares this object to another.\n",
    "5. replaceAll(): Replaces all substrings that match the specified pattern with a given value.\n",
    "6. split(): Splits the string at matches of the specified delimiter and returns a list of substrings.\n",
    "7. toString(): Returns a string representation of this object.\n",
    "8. substring(): Returns the text from any position you want.\n",
    "9. codeUnitAt(): Returns the 16-bit UTF-16 code unit at the given index."
   ]
  },
  {
   "cell_type": "markdown",
   "metadata": {},
   "source": [
    "1. toLowerCase(): Converts all characters in this string to lowercase."
   ]
  },
  {
   "cell_type": "code",
   "execution_count": 3,
   "metadata": {},
   "outputs": [
    {
     "name": "stdout",
     "output_type": "stream",
     "text": [
      "hello world!\n"
     ]
    }
   ],
   "source": [
    "String given_String = 'Hello World!';\n",
    "\n",
    "print(given_String.toLowerCase());"
   ]
  },
  {
   "cell_type": "markdown",
   "metadata": {},
   "source": [
    "2. toUpperCase(): Converts all characters in this string to uppercase."
   ]
  },
  {
   "cell_type": "code",
   "execution_count": 4,
   "metadata": {},
   "outputs": [
    {
     "name": "stdout",
     "output_type": "stream",
     "text": [
      "HELLO WORLD!\n"
     ]
    }
   ],
   "source": [
    "print(given_String.toUpperCase());"
   ]
  },
  {
   "cell_type": "markdown",
   "metadata": {},
   "source": [
    "3. trim(): Returns the string without any leading and trailing whitespace."
   ]
  },
  {
   "cell_type": "code",
   "execution_count": 5,
   "metadata": {},
   "outputs": [
    {
     "name": "stdout",
     "output_type": "stream",
     "text": [
      "Hi how are you?\n"
     ]
    }
   ],
   "source": [
    "String given_string = ' \\n Hi how are you?   \\n';\n",
    "\n",
    "print(given_string.trim());"
   ]
  },
  {
   "cell_type": "markdown",
   "metadata": {},
   "source": [
    "4. compareTo(): Compares this object to another."
   ]
  },
  {
   "cell_type": "code",
   "execution_count": null,
   "metadata": {},
   "outputs": [],
   "source": [
    "// In Dart, you can compare two strings. It will give the result 0 when two texts are equal, \n",
    "// 1 when the first String is greater than the second, and -1 when the first String is smaller than the second."
   ]
  },
  {
   "cell_type": "code",
   "execution_count": 1,
   "metadata": {},
   "outputs": [
    {
     "name": "stdout",
     "output_type": "stream",
     "text": [
      "0\n",
      "\n",
      "-1\n"
     ]
    }
   ],
   "source": [
    "String item = 'Apple';\n",
    "String item2 = 'Apple';\n",
    "String item3 = 'Aunt';\n",
    "\n",
    "print(item.compareTo(item2));\n",
    "print('');\n",
    "print(item.compareTo(item3));"
   ]
  },
  {
   "cell_type": "markdown",
   "metadata": {},
   "source": [
    "5. Replace String In Dart"
   ]
  },
  {
   "cell_type": "code",
   "execution_count": 2,
   "metadata": {},
   "outputs": [
    {
     "name": "stdout",
     "output_type": "stream",
     "text": [
      "orignal_Text:-   I am a good boy I like milk. Doctor says bread is good for health.\n",
      "Prase Text:-   I am a good boy I like milk. Doctor says milk is good for health.\n"
     ]
    }
   ],
   "source": [
    "String text = \"I am a good boy I like milk. Doctor says bread is good for health.\";\n",
    "\n",
    "String new_Text = text.replaceAll('bread','milk');\n",
    "\n",
    "print('orignal_Text:-   $text');\n",
    "print('Prase Text:-   $new_Text');"
   ]
  },
  {
   "cell_type": "markdown",
   "metadata": {},
   "source": [
    "6. Split String In Dart"
   ]
  },
  {
   "cell_type": "code",
   "execution_count": 3,
   "metadata": {},
   "outputs": [
    {
     "name": "stdout",
     "output_type": "stream",
     "text": [
      "[Mustafa,  Ahmad,  Ali,  Hassan]\n"
     ]
    }
   ],
   "source": [
    "String all_Names = 'Mustafa, Ahmad, Ali, Hassan';\n",
    "\n",
    "print(all_Names.split(','));"
   ]
  },
  {
   "cell_type": "code",
   "execution_count": 4,
   "metadata": {},
   "outputs": [
    {
     "name": "stdout",
     "output_type": "stream",
     "text": [
      "[Mustafa,  Ahmad,  Ali,  Hassan]\n"
     ]
    }
   ],
   "source": [
    "List<String> list_Of_Name = all_Names.split(',');\n",
    "print(list_Of_Name);"
   ]
  },
  {
   "cell_type": "markdown",
   "metadata": {},
   "source": [
    "7. ToString In Dart\n",
    "// used for getting convert int or double to string"
   ]
  },
  {
   "cell_type": "code",
   "execution_count": 1,
   "metadata": {},
   "outputs": [
    {
     "name": "stdout",
     "output_type": "stream",
     "text": [
      "int\n",
      "String\n"
     ]
    }
   ],
   "source": [
    "int integer = 20;\n",
    "String results = integer.toString();\n",
    "\n",
    "print(integer.runtimeType);\n",
    "print(results.runtimeType);"
   ]
  },
  {
   "cell_type": "markdown",
   "metadata": {},
   "source": [
    "8.  SubString In Dart\n",
    "\n",
    "We can use the substring method for getting some text between the string."
   ]
  },
  {
   "cell_type": "code",
   "execution_count": 2,
   "metadata": {},
   "outputs": [
    {
     "name": "stdout",
     "output_type": "stream",
     "text": [
      "get only computer: computer\n",
      "get only love: love\n"
     ]
    }
   ],
   "source": [
    "String text = \"I love computer\"; \n",
    "print(\"get only computer: ${text.substring(7)}\"); // from index 6 to the last index \n",
    "print(\"get only love: ${text.substring(2,6)}\");// from index 2 to the 6th index "
   ]
  },
  {
   "cell_type": "markdown",
   "metadata": {},
   "source": [
    "9. Reverse String In Dart"
   ]
  },
  {
   "cell_type": "code",
   "execution_count": 3,
   "metadata": {},
   "outputs": [
    {
     "name": "stdout",
     "output_type": "stream",
     "text": [
      "olleH\n"
     ]
    }
   ],
   "source": [
    "String input_String = \"Hello\"; \n",
    "List <String> list_From = input_String.split('');\n",
    "String new_Results = list_From.reversed.join(); // reversed is a list function and join is a string method\n",
    "print(new_Results);  // let see the results"
   ]
  }
 ],
 "metadata": {
  "kernelspec": {
   "display_name": "Dart",
   "language": "",
   "name": "jupyterdartkernel"
  },
  "language_info": {
   "file_extension": "dart",
   "mimetype": "application/dart",
   "name": "dart"
  }
 },
 "nbformat": 4,
 "nbformat_minor": 2
}
