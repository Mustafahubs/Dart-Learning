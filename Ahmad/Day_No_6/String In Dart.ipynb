{
 "cells": [
  {
   "cell_type": "markdown",
   "metadata": {},
   "source": [
    "String In Dart"
   ]
  },
  {
   "cell_type": "markdown",
   "metadata": {},
   "source": [
    "Three types of string:- \n",
    "1. single qoutes string >- '' \n",
    "2. double qoutes string >- \"\"\n",
    "3. triple qoutes string >- ''' ''' or \"\"\" \"\"\" "
   ]
  },
  {
   "cell_type": "code",
   "execution_count": 1,
   "metadata": {},
   "outputs": [
    {
     "name": "stdout",
     "output_type": "stream",
     "text": []
    }
   ],
   "source": [
    "String text1 = 'This is a single line using single-qoute string';\n",
    "String text2 = \"This is a single line using double-qoute string\";\n",
    "String text3 = \"\"\"This is a multiline line   \n",
    "string using the triple-quotes.\n",
    "This is tutorial on dart strings.\n",
    "\"\"\";   "
   ]
  },
  {
   "cell_type": "code",
   "execution_count": 3,
   "metadata": {},
   "outputs": [
    {
     "name": "stdout",
     "output_type": "stream",
     "text": [
      "This is a single line using single-qoute string\n",
      "\n",
      "This is a single line using double-qoute string\n",
      "\n",
      "This is a multiline line   \n",
      "string using the triple-quotes.\n",
      "This is tutorial on dart strings.\n",
      "\n"
     ]
    }
   ],
   "source": [
    "print(text1);\n",
    "print('');\n",
    "print(text2);\n",
    "print('');\n",
    "print(text3);"
   ]
  },
  {
   "cell_type": "markdown",
   "metadata": {},
   "source": [
    "String Concatenation"
   ]
  },
  {
   "cell_type": "code",
   "execution_count": 6,
   "metadata": {},
   "outputs": [
    {
     "name": "stdout",
     "output_type": "stream",
     "text": [
      "My name is Muhammad Ahmad.\n"
     ]
    }
   ],
   "source": [
    "String first_Name = 'Muhammad';\n",
    "String last_Name = 'Ahmad';\n",
    "\n",
    "String text = 'My name is' + ' ' + first_Name + ' ' + last_Name + '.';\n",
    "print(text);"
   ]
  },
  {
   "cell_type": "code",
   "execution_count": 7,
   "metadata": {},
   "outputs": [
    {
     "name": "stdout",
     "output_type": "stream",
     "text": [
      "My name is Muhammad Ahmad.\n"
     ]
    }
   ],
   "source": [
    "// the other method of String Concatenation is:- \n",
    "String new_Text = 'My name is $first_Name $last_Name.';\n",
    "print(new_Text);"
   ]
  },
  {
   "cell_type": "markdown",
   "metadata": {},
   "source": [
    "Properties Of String"
   ]
  },
  {
   "cell_type": "markdown",
   "metadata": {},
   "source": [
    "1. codeUnits: Returns an unmodifiable list of the UTF-16 code units of this string.\n",
    "2. isEmpty: Returns true if this string is empty.\n",
    "3. isNotEmpty: Returns false if this string is empty.\n",
    "4. length: Returns the length of the string including space, tab, and newline characters."
   ]
  },
  {
   "cell_type": "code",
   "execution_count": 9,
   "metadata": {},
   "outputs": [
    {
     "name": "stdout",
     "output_type": "stream",
     "text": [
      "[72, 101, 108, 108, 111, 32, 87, 111, 114, 108, 100]\n",
      " \n"
     ]
    }
   ],
   "source": [
    "String given_String = 'Hello World';\n",
    "\n",
    "print(given_String.codeUnits);\n",
    "print(' ');"
   ]
  },
  {
   "cell_type": "code",
   "execution_count": 11,
   "metadata": {},
   "outputs": [
    {
     "name": "stdout",
     "output_type": "stream",
     "text": [
      "false\n",
      "\n",
      "true\n",
      "\n",
      "11\n",
      "\n"
     ]
    }
   ],
   "source": [
    "print(given_String.isEmpty);\n",
    "print('');\n",
    "print(given_String.isNotEmpty);\n",
    "print('');\n",
    "print(given_String.length);\n",
    "print('');"
   ]
  },
  {
   "cell_type": "code",
   "execution_count": null,
   "metadata": {},
   "outputs": [],
   "source": []
  }
 ],
 "metadata": {
  "kernelspec": {
   "display_name": "Dart",
   "language": "",
   "name": "jupyterdartkernel"
  },
  "language_info": {
   "file_extension": "dart",
   "mimetype": "application/dart",
   "name": "dart"
  }
 },
 "nbformat": 4,
 "nbformat_minor": 2
}
