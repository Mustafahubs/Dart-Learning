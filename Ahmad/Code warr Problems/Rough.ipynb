{
 "cells": [
  {
   "cell_type": "markdown",
   "metadata": {},
   "source": [
    "#### problem 1."
   ]
  },
  {
   "cell_type": "code",
   "execution_count": 1,
   "metadata": {},
   "outputs": [
    {
     "name": "stdout",
     "output_type": "stream",
     "text": [
      "[2, 4, 6, 8, 10]\n"
     ]
    }
   ],
   "source": [
    "int given_Num = 5;\n",
    "int multiply_Num = 2;\n",
    "List <num> results = [];\n",
    "for (int n = 1; n <= given_Num; n++) {\n",
    "  results.add(n * multiply_Num);\n",
    "\n",
    "}\n",
    "print(results);"
   ]
  },
  {
   "cell_type": "markdown",
   "metadata": {},
   "source": [
    "### problem 2"
   ]
  },
  {
   "cell_type": "code",
   "execution_count": 2,
   "metadata": {},
   "outputs": [
    {
     "name": "stdout",
     "output_type": "stream",
     "text": []
    }
   ],
   "source": [
    "String getGrade(int a, int b, int c) {\n",
    "  // apply the average formula\n",
    "  int sum = a + b + c;\n",
    "  int average = sum ~/ 3;\n",
    "  String grade = '';\n",
    "  // appling the conditions\n",
    "  if (average >= 90 && average <= 100) {\n",
    "    grade = 'A';\n",
    "  } else if (average >= 80 && average <= 90) {\n",
    "    grade = 'B';\n",
    "  } else if (average >= 70 && average <= 80) {\n",
    "    grade = 'C';\n",
    "  } else if (average >= 60 && average <= 70) {\n",
    "    grade = 'D';\n",
    "  } else if (average >= 0 && average <= 60) {\n",
    "    grade = 'F';\n",
    "  }\n",
    "  return grade;\n",
    "}\n",
    "\n",
    "void main() {\n",
    "  print(getGrade(90, 96, 100));\n",
    "}"
   ]
  },
  {
   "cell_type": "markdown",
   "metadata": {},
   "source": [
    "### problem 3."
   ]
  },
  {
   "cell_type": "code",
   "execution_count": 1,
   "metadata": {},
   "outputs": [
    {
     "name": "stdout",
     "output_type": "stream",
     "text": [
      "12.5\n"
     ]
    }
   ],
   "source": [
    "List <num> arr = [1,2,3.5,6];\n",
    "num result = 0;\n",
    "  for (num n in arr) {\n",
    "    result += n;\n",
    "  }\n",
    "print(result);"
   ]
  },
  {
   "cell_type": "markdown",
   "metadata": {},
   "source": [
    "### problem 4"
   ]
  },
  {
   "cell_type": "code",
   "execution_count": 1,
   "metadata": {},
   "outputs": [
    {
     "name": "stdout",
     "output_type": "stream",
     "text": [
      "Even and Odd are the same\n"
     ]
    }
   ],
   "source": [
    "String give_String = '112';\n",
    "// convert given string into list from\n",
    "List <String> convert_list = give_String.split('');\n",
    "// sum the even and odd numbers\n",
    "int even_Sum = 0;\n",
    "int odd_Sum = 0;\n",
    "for (String n in convert_list) {\n",
    "  int convert_Int = int.parse(n);\n",
    "  if (convert_Int % 2 == 0) {\n",
    "    even_Sum += convert_Int;\n",
    "  } else {\n",
    "    odd_Sum += convert_Int;\n",
    "  }\n",
    "}\n",
    "String results = \"\";\n",
    "// apply main conditions\n",
    "if (even_Sum > odd_Sum) {\n",
    "  results = \"Even is greater than Odd\";\n",
    "} else if (even_Sum < odd_Sum) {\n",
    "  results = \"Odd is greater than Even\";\n",
    "} else {\n",
    "  results = \"Even and Odd are the same\";\n",
    "}\n",
    "print(results);"
   ]
  },
  {
   "cell_type": "markdown",
   "metadata": {},
   "source": [
    "#### problem 5"
   ]
  },
  {
   "cell_type": "code",
   "execution_count": 1,
   "metadata": {},
   "outputs": [
    {
     "name": "stdout",
     "output_type": "stream",
     "text": []
    }
   ],
   "source": [
    "int number = 9;"
   ]
  },
  {
   "cell_type": "code",
   "execution_count": 3,
   "metadata": {},
   "outputs": [
    {
     "name": "stdout",
     "output_type": "stream",
     "text": []
    }
   ],
   "source": [
    "String str_Num = number.toString();\n",
    "// convert into list for apply loop\n",
    "List <String> list = str_Num.split('');"
   ]
  },
  {
   "cell_type": "code",
   "execution_count": 4,
   "metadata": {},
   "outputs": [
    {
     "name": "stdout",
     "output_type": "stream",
     "text": []
    }
   ],
   "source": [
    "String results = '';\n",
    "for (String n in list) {\n",
    "  int digit = int.parse(n);\n",
    "  if (digit > 5) {\n",
    "    results = 'NOT!!';\n",
    "  } else if (digit < 0) {\n",
    "    results = 'NOT!!';\n",
    "  } else {\n",
    "    results = \"Special!!\";\n",
    "  }\n",
    "}"
   ]
  },
  {
   "cell_type": "markdown",
   "metadata": {},
   "source": [
    "### problem 6"
   ]
  },
  {
   "cell_type": "code",
   "execution_count": 7,
   "metadata": {},
   "outputs": [
    {
     "name": "stdout",
     "output_type": "stream",
     "text": []
    }
   ],
   "source": [
    "String bool_to_word(bool boolean) {\n",
    "  String results = '';\n",
    "  bool boolean = false;\n",
    "  if (boolean == true) {\n",
    "    results = 'Yes';\n",
    "  } else {\n",
    "    results = 'No';\n",
    "  }\n",
    "  return results;\n",
    "}"
   ]
  },
  {
   "cell_type": "code",
   "execution_count": 3,
   "metadata": {},
   "outputs": [
    {
     "name": "stdout",
     "output_type": "stream",
     "text": []
    }
   ],
   "source": [
    "bool boolean = false;\n",
    "if (boolean == true) {\n",
    "  print('Yes');\n",
    "} else {\n",
    "  print('No');\n",
    "}"
   ]
  },
  {
   "cell_type": "markdown",
   "metadata": {},
   "source": [
    "problem_7."
   ]
  },
  {
   "cell_type": "code",
   "execution_count": null,
   "metadata": {},
   "outputs": [],
   "source": [
    "int findSmallestInt(List<int> arr) {\n",
    "  int smallest_num;\n",
    "\n",
    "  if (arr.isNotEmpty) {\n",
    "    smallest_num = arr[0];\n",
    "  } else {\n",
    "    smallest_num = 0;\n",
    "  }\n",
    "\n",
    "  for (int n in arr) {\n",
    "    if (n < smallest_num) {\n",
    "      smallest_num = n;\n",
    "    }\n",
    "  }\n",
    "  return smallest_num;\n",
    "}"
   ]
  },
  {
   "cell_type": "markdown",
   "metadata": {},
   "source": [
    "\n",
    "problem 8."
   ]
  },
  {
   "cell_type": "code",
   "execution_count": 4,
   "metadata": {},
   "outputs": [
    {
     "name": "stdout",
     "output_type": "stream",
     "text": []
    }
   ],
   "source": [
    "int simpleMultiplication(int given_num) {\n",
    "  int results = 0;\n",
    "  if (given_num % 2 == 0) {\n",
    "    results = given_num * 8;\n",
    "  } else {\n",
    "    results = given_num * 9;\n",
    "  }\n",
    "  return results;\n",
    "}"
   ]
  },
  {
   "cell_type": "code",
   "execution_count": 6,
   "metadata": {},
   "outputs": [
    {
     "name": "stdout",
     "output_type": "stream",
     "text": [
      "16\n"
     ]
    }
   ],
   "source": [
    "print(simpleMultiplication(2));"
   ]
  },
  {
   "cell_type": "markdown",
   "metadata": {},
   "source": [
    "problem 9."
   ]
  },
  {
   "cell_type": "code",
   "execution_count": 2,
   "metadata": {},
   "outputs": [
    {
     "name": "stdout",
     "output_type": "stream",
     "text": []
    }
   ],
   "source": [
    "String updateLight(String current) {\n",
    "  String results = '';\n",
    "  if (current == 'green') {\n",
    "    results += 'yellow';\n",
    "  } else if (current == 'yellow') {\n",
    "    results += 'red';\n",
    "  } else if (current == 'red') {\n",
    "    results += 'green';\n",
    "  }\n",
    "  return results;\n",
    "}"
   ]
  },
  {
   "cell_type": "code",
   "execution_count": 3,
   "metadata": {},
   "outputs": [
    {
     "name": "stdout",
     "output_type": "stream",
     "text": [
      "green\n"
     ]
    }
   ],
   "source": [
    "print(updateLight('red'));"
   ]
  },
  {
   "cell_type": "markdown",
   "metadata": {},
   "source": [
    "problem_10"
   ]
  },
  {
   "cell_type": "code",
   "execution_count": 4,
   "metadata": {},
   "outputs": [
    {
     "name": "stdout",
     "output_type": "stream",
     "text": []
    }
   ],
   "source": [
    "String numberToString(int given_num) {\n",
    "  String results = given_num.toString();\n",
    "  return results;\n",
    "}"
   ]
  },
  {
   "cell_type": "code",
   "execution_count": 5,
   "metadata": {},
   "outputs": [
    {
     "name": "stdout",
     "output_type": "stream",
     "text": [
      "987\n"
     ]
    }
   ],
   "source": [
    "print(numberToString(987));\n"
   ]
  },
  {
   "cell_type": "markdown",
   "metadata": {},
   "source": [
    "problem_11"
   ]
  },
  {
   "cell_type": "code",
   "execution_count": 4,
   "metadata": {},
   "outputs": [
    {
     "name": "stdout",
     "output_type": "stream",
     "text": []
    }
   ],
   "source": [
    "String rnaToDna(String dna) {\n",
    "  String results = '';\n",
    "  for (var let in dna.runes) {\n",
    "    String convert_string = String.fromCharCode(let);\n",
    "    if (convert_string == 'G') {\n",
    "      results += 'G';\n",
    "    } else if (convert_string == 'C') {\n",
    "      results += 'C';\n",
    "    } else if (convert_string == 'A') {\n",
    "      results += 'A';\n",
    "    } else if (convert_string == 'T') {\n",
    "      results += 'U';\n",
    "    }\n",
    "  } return results;\n",
    "}"
   ]
  },
  {
   "cell_type": "code",
   "execution_count": 5,
   "metadata": {},
   "outputs": [
    {
     "name": "stdout",
     "output_type": "stream",
     "text": [
      "GCAU\n"
     ]
    }
   ],
   "source": [
    "print(rnaToDna('GCAT'));"
   ]
  },
  {
   "cell_type": "code",
   "execution_count": 7,
   "metadata": {},
   "outputs": [
    {
     "name": "stdout",
     "output_type": "stream",
     "text": []
    }
   ],
   "source": [
    "String givenString = 'GCAT';\n",
    "String answer = givenString.replaceAll('T', 'U');"
   ]
  },
  {
   "cell_type": "code",
   "execution_count": 8,
   "metadata": {},
   "outputs": [
    {
     "name": "stdout",
     "output_type": "stream",
     "text": [
      "GCAU\n"
     ]
    }
   ],
   "source": [
    "print(answer);"
   ]
  }
 ],
 "metadata": {
  "kernelspec": {
   "display_name": "Dart",
   "language": "",
   "name": "jupyterdartkernel"
  },
  "language_info": {
   "file_extension": "dart",
   "mimetype": "application/dart",
   "name": "dart"
  }
 },
 "nbformat": 4,
 "nbformat_minor": 2
}
