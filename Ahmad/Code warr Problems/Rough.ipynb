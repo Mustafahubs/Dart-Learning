{
 "cells": [
  {
   "cell_type": "markdown",
   "metadata": {},
   "source": [
    "#### problem 1."
   ]
  },
  {
   "cell_type": "code",
   "execution_count": 1,
   "metadata": {},
   "outputs": [
    {
     "name": "stdout",
     "output_type": "stream",
     "text": [
      "[2, 4, 6, 8, 10]\n"
     ]
    }
   ],
   "source": [
    "int given_Num = 5;\n",
    "int multiply_Num = 2;\n",
    "List <num> results = [];\n",
    "for (int n = 1; n <= given_Num; n++) {\n",
    "  results.add(n * multiply_Num);\n",
    "\n",
    "}\n",
    "print(results);"
   ]
  },
  {
   "cell_type": "markdown",
   "metadata": {},
   "source": [
    "### problem 2"
   ]
  },
  {
   "cell_type": "code",
   "execution_count": 2,
   "metadata": {},
   "outputs": [
    {
     "name": "stdout",
     "output_type": "stream",
     "text": []
    }
   ],
   "source": [
    "String getGrade(int a, int b, int c) {\n",
    "  // apply the average formula\n",
    "  int sum = a + b + c;\n",
    "  int average = sum ~/ 3;\n",
    "  String grade = '';\n",
    "  // appling the conditions\n",
    "  if (average >= 90 && average <= 100) {\n",
    "    grade = 'A';\n",
    "  } else if (average >= 80 && average <= 90) {\n",
    "    grade = 'B';\n",
    "  } else if (average >= 70 && average <= 80) {\n",
    "    grade = 'C';\n",
    "  } else if (average >= 60 && average <= 70) {\n",
    "    grade = 'D';\n",
    "  } else if (average >= 0 && average <= 60) {\n",
    "    grade = 'F';\n",
    "  }\n",
    "  return grade;\n",
    "}\n",
    "\n",
    "void main() {\n",
    "  print(getGrade(90, 96, 100));\n",
    "}"
   ]
  },
  {
   "cell_type": "markdown",
   "metadata": {},
   "source": [
    "### problem 3."
   ]
  },
  {
   "cell_type": "code",
   "execution_count": 1,
   "metadata": {},
   "outputs": [
    {
     "name": "stdout",
     "output_type": "stream",
     "text": [
      "12.5\n"
     ]
    }
   ],
   "source": [
    "List <num> arr = [1,2,3.5,6];\n",
    "num result = 0;\n",
    "  for (num n in arr) {\n",
    "    result += n;\n",
    "  }\n",
    "print(result);"
   ]
  },
  {
   "cell_type": "markdown",
   "metadata": {},
   "source": [
    "### problem 4"
   ]
  },
  {
   "cell_type": "code",
   "execution_count": 1,
   "metadata": {},
   "outputs": [
    {
     "name": "stdout",
     "output_type": "stream",
     "text": [
      "Even and Odd are the same\n"
     ]
    }
   ],
   "source": [
    "String give_String = '112';\n",
    "// convert given string into list from\n",
    "List <String> convert_list = give_String.split('');\n",
    "// sum the even and odd numbers\n",
    "int even_Sum = 0;\n",
    "int odd_Sum = 0;\n",
    "for (String n in convert_list) {\n",
    "  int convert_Int = int.parse(n);\n",
    "  if (convert_Int % 2 == 0) {\n",
    "    even_Sum += convert_Int;\n",
    "  } else {\n",
    "    odd_Sum += convert_Int;\n",
    "  }\n",
    "}\n",
    "String results = \"\";\n",
    "// apply main conditions\n",
    "if (even_Sum > odd_Sum) {\n",
    "  results = \"Even is greater than Odd\";\n",
    "} else if (even_Sum < odd_Sum) {\n",
    "  results = \"Odd is greater than Even\";\n",
    "} else {\n",
    "  results = \"Even and Odd are the same\";\n",
    "}\n",
    "print(results);"
   ]
  },
  {
   "cell_type": "markdown",
   "metadata": {},
   "source": [
    "#### problem 5"
   ]
  },
  {
   "cell_type": "code",
   "execution_count": 1,
   "metadata": {},
   "outputs": [
    {
     "name": "stdout",
     "output_type": "stream",
     "text": []
    }
   ],
   "source": [
    "int number = 9;"
   ]
  },
  {
   "cell_type": "code",
   "execution_count": 3,
   "metadata": {},
   "outputs": [
    {
     "name": "stdout",
     "output_type": "stream",
     "text": []
    }
   ],
   "source": [
    "String str_Num = number.toString();\n",
    "// convert into list for apply loop\n",
    "List <String> list = str_Num.split('');"
   ]
  },
  {
   "cell_type": "code",
   "execution_count": 4,
   "metadata": {},
   "outputs": [
    {
     "name": "stdout",
     "output_type": "stream",
     "text": []
    }
   ],
   "source": [
    "String results = '';\n",
    "for (String n in list) {\n",
    "  int digit = int.parse(n);\n",
    "  if (digit > 5) {\n",
    "    results = 'NOT!!';\n",
    "  } else if (digit < 0) {\n",
    "    results = 'NOT!!';\n",
    "  } else {\n",
    "    results = \"Special!!\";\n",
    "  }\n",
    "}"
   ]
  },
  {
   "cell_type": "markdown",
   "metadata": {},
   "source": [
    "### problem 6"
   ]
  },
  {
   "cell_type": "code",
   "execution_count": 7,
   "metadata": {},
   "outputs": [
    {
     "name": "stdout",
     "output_type": "stream",
     "text": []
    }
   ],
   "source": [
    "String bool_to_word(bool boolean) {\n",
    "  String results = '';\n",
    "  bool boolean = false;\n",
    "  if (boolean == true) {\n",
    "    results = 'Yes';\n",
    "  } else {\n",
    "    results = 'No';\n",
    "  }\n",
    "  return results;\n",
    "}"
   ]
  },
  {
   "cell_type": "code",
   "execution_count": 3,
   "metadata": {},
   "outputs": [
    {
     "name": "stdout",
     "output_type": "stream",
     "text": []
    }
   ],
   "source": [
    "bool boolean = false;\n",
    "if (boolean == true) {\n",
    "  print('Yes');\n",
    "} else {\n",
    "  print('No');\n",
    "}"
   ]
  },
  {
   "cell_type": "markdown",
   "metadata": {},
   "source": [
    "problem_7."
   ]
  },
  {
   "cell_type": "code",
   "execution_count": null,
   "metadata": {},
   "outputs": [],
   "source": [
    "int findSmallestInt(List<int> arr) {\n",
    "  int smallest_num;\n",
    "\n",
    "  if (arr.isNotEmpty) {\n",
    "    smallest_num = arr[0];\n",
    "  } else {\n",
    "    smallest_num = 0;\n",
    "  }\n",
    "\n",
    "  for (int n in arr) {\n",
    "    if (n < smallest_num) {\n",
    "      smallest_num = n;\n",
    "    }\n",
    "  }\n",
    "  return smallest_num;\n",
    "}"
   ]
  },
  {
   "cell_type": "markdown",
   "metadata": {},
   "source": [
    "\n",
    "problem 8."
   ]
  },
  {
   "cell_type": "code",
   "execution_count": 4,
   "metadata": {},
   "outputs": [
    {
     "name": "stdout",
     "output_type": "stream",
     "text": []
    }
   ],
   "source": [
    "int simpleMultiplication(int given_num) {\n",
    "  int results = 0;\n",
    "  if (given_num % 2 == 0) {\n",
    "    results = given_num * 8;\n",
    "  } else {\n",
    "    results = given_num * 9;\n",
    "  }\n",
    "  return results;\n",
    "}"
   ]
  },
  {
   "cell_type": "code",
   "execution_count": 6,
   "metadata": {},
   "outputs": [
    {
     "name": "stdout",
     "output_type": "stream",
     "text": [
      "16\n"
     ]
    }
   ],
   "source": [
    "print(simpleMultiplication(2));"
   ]
  },
  {
   "cell_type": "markdown",
   "metadata": {},
   "source": [
    "problem 9."
   ]
  },
  {
   "cell_type": "code",
   "execution_count": 2,
   "metadata": {},
   "outputs": [
    {
     "name": "stdout",
     "output_type": "stream",
     "text": []
    }
   ],
   "source": [
    "String updateLight(String current) {\n",
    "  String results = '';\n",
    "  if (current == 'green') {\n",
    "    results += 'yellow';\n",
    "  } else if (current == 'yellow') {\n",
    "    results += 'red';\n",
    "  } else if (current == 'red') {\n",
    "    results += 'green';\n",
    "  }\n",
    "  return results;\n",
    "}"
   ]
  },
  {
   "cell_type": "code",
   "execution_count": 3,
   "metadata": {},
   "outputs": [
    {
     "name": "stdout",
     "output_type": "stream",
     "text": [
      "green\n"
     ]
    }
   ],
   "source": [
    "print(updateLight('red'));"
   ]
  },
  {
   "cell_type": "markdown",
   "metadata": {},
   "source": [
    "problem_10"
   ]
  },
  {
   "cell_type": "code",
   "execution_count": 4,
   "metadata": {},
   "outputs": [
    {
     "name": "stdout",
     "output_type": "stream",
     "text": []
    }
   ],
   "source": [
    "String numberToString(int given_num) {\n",
    "  String results = given_num.toString();\n",
    "  return results;\n",
    "}"
   ]
  },
  {
   "cell_type": "code",
   "execution_count": 5,
   "metadata": {},
   "outputs": [
    {
     "name": "stdout",
     "output_type": "stream",
     "text": [
      "987\n"
     ]
    }
   ],
   "source": [
    "print(numberToString(987));\n"
   ]
  },
  {
   "cell_type": "markdown",
   "metadata": {},
   "source": [
    "problem_11"
   ]
  },
  {
   "cell_type": "code",
   "execution_count": 4,
   "metadata": {},
   "outputs": [
    {
     "name": "stdout",
     "output_type": "stream",
     "text": []
    }
   ],
   "source": [
    "String rnaToDna(String dna) {\n",
    "  String results = '';\n",
    "  for (var let in dna.runes) {\n",
    "    String convert_string = String.fromCharCode(let);\n",
    "    if (convert_string == 'G') {\n",
    "      results += 'G';\n",
    "    } else if (convert_string == 'C') {\n",
    "      results += 'C';\n",
    "    } else if (convert_string == 'A') {\n",
    "      results += 'A';\n",
    "    } else if (convert_string == 'T') {\n",
    "      results += 'U';\n",
    "    }\n",
    "  } return results;\n",
    "}"
   ]
  },
  {
   "cell_type": "code",
   "execution_count": 5,
   "metadata": {},
   "outputs": [
    {
     "name": "stdout",
     "output_type": "stream",
     "text": [
      "GCAU\n"
     ]
    }
   ],
   "source": [
    "print(rnaToDna('GCAT'));"
   ]
  },
  {
   "cell_type": "code",
   "execution_count": 7,
   "metadata": {},
   "outputs": [
    {
     "name": "stdout",
     "output_type": "stream",
     "text": []
    }
   ],
   "source": [
    "String givenString = 'GCAT';\n",
    "String answer = givenString.replaceAll('T', 'U');"
   ]
  },
  {
   "cell_type": "code",
   "execution_count": 8,
   "metadata": {},
   "outputs": [
    {
     "name": "stdout",
     "output_type": "stream",
     "text": [
      "GCAU\n"
     ]
    }
   ],
   "source": [
    "print(answer);"
   ]
  },
  {
   "cell_type": "markdown",
   "metadata": {},
   "source": [
    "problem_12"
   ]
  },
  {
   "cell_type": "code",
   "execution_count": 1,
   "metadata": {},
   "outputs": [
    {
     "name": "stdout",
     "output_type": "stream",
     "text": []
    }
   ],
   "source": [
    "String longest(String string1, String string2) {\n",
    "  String combineString = string1 + string2;\n",
    "  String newString = '';\n",
    "  for (var let in combineString.runes) {\n",
    "    String words = String.fromCharCode(let);\n",
    "    if (! newString.contains(words)) {\n",
    "      newString += words;\n",
    "    }\n",
    "\n",
    "  }\n",
    "  List<String> answer = newString.split('')..sort();\n",
    "  String results = answer.join();\n",
    "  return results;\n",
    "}"
   ]
  },
  {
   "cell_type": "code",
   "execution_count": 2,
   "metadata": {},
   "outputs": [
    {
     "name": "stdout",
     "output_type": "stream",
     "text": [
      "aehrsty\n"
     ]
    }
   ],
   "source": [
    "String string1 = 'aretheyhere';\n",
    "String string2 = 'yestheyarehere';\n",
    "print(longest(string1,string2));"
   ]
  },
  {
   "cell_type": "markdown",
   "metadata": {},
   "source": [
    "problem_13."
   ]
  },
  {
   "cell_type": "code",
   "execution_count": 1,
   "metadata": {},
   "outputs": [
    {
     "name": "stdout",
     "output_type": "stream",
     "text": []
    }
   ],
   "source": [
    "String solution(str) {\n",
    "  String results = str.split('').reversed.join('');\n",
    "  return results;\n",
    "}"
   ]
  },
  {
   "cell_type": "code",
   "execution_count": 2,
   "metadata": {},
   "outputs": [
    {
     "name": "stdout",
     "output_type": "stream",
     "text": [
      "drow\n"
     ]
    }
   ],
   "source": [
    "String str = 'word';\n",
    "print(solution(str));"
   ]
  },
  {
   "cell_type": "markdown",
   "metadata": {},
   "source": [
    "problem_14"
   ]
  },
  {
   "cell_type": "code",
   "execution_count": 3,
   "metadata": {},
   "outputs": [
    {
     "name": "stdout",
     "output_type": "stream",
     "text": []
    }
   ],
   "source": [
    "int stringToNumber(String given_str) {\n",
    "  int results = int.parse(given_str);\n",
    "  return results;\n",
    "}\n"
   ]
  },
  {
   "cell_type": "code",
   "execution_count": 5,
   "metadata": {},
   "outputs": [
    {
     "name": "stdout",
     "output_type": "stream",
     "text": [
      "12345\n",
      "int\n"
     ]
    }
   ],
   "source": [
    "String given_str = '12345';\n",
    "int answer = stringToNumber(given_str);\n",
    "print(answer);\n",
    "print(answer.runtimeType);"
   ]
  },
  {
   "cell_type": "markdown",
   "metadata": {},
   "source": [
    "problem_15."
   ]
  },
  {
   "cell_type": "code",
   "execution_count": 2,
   "metadata": {},
   "outputs": [
    {
     "name": "stdout",
     "output_type": "stream",
     "text": []
    }
   ],
   "source": [
    "int descendingOrder(number) {\n",
    "  String make_str = number.toString();\n",
    "  List<String> sort_List = make_str.split('')..sort();\n",
    "  String descending_str = sort_List.reversed.join();\n",
    "  int results = int.parse(descending_str);\n",
    "  return results;\n",
    "}"
   ]
  },
  {
   "cell_type": "code",
   "execution_count": 4,
   "metadata": {},
   "outputs": [
    {
     "name": "stdout",
     "output_type": "stream",
     "text": [
      "54321\n"
     ]
    }
   ],
   "source": [
    "print(descendingOrder(12345));"
   ]
  },
  {
   "cell_type": "markdown",
   "metadata": {},
   "source": [
    "problem_17."
   ]
  },
  {
   "cell_type": "code",
   "execution_count": 1,
   "metadata": {},
   "outputs": [
    {
     "name": "stdout",
     "output_type": "stream",
     "text": []
    }
   ],
   "source": [
    "List<int> between(int start, int end){\n",
    "  List <int> results = [];\n",
    "  for (int n = start; n <= end; n++) {\n",
    "    results.add(n);\n",
    "  }\n",
    "  return results;\n",
    "}"
   ]
  },
  {
   "cell_type": "code",
   "execution_count": 2,
   "metadata": {},
   "outputs": [
    {
     "name": "stdout",
     "output_type": "stream",
     "text": [
      "[-2, -1, 0, 1, 2]\n"
     ]
    }
   ],
   "source": [
    "int start = -2;\n",
    "int end = 2;\n",
    "print(between(start,end));"
   ]
  },
  {
   "cell_type": "markdown",
   "metadata": {},
   "source": [
    "problem_17"
   ]
  },
  {
   "cell_type": "code",
   "execution_count": 2,
   "metadata": {},
   "outputs": [
    {
     "name": "stdout",
     "output_type": "stream",
     "text": []
    }
   ],
   "source": [
    "bool isUpperCase(String str) {\n",
    "  bool results = str.toUpperCase() == str;\n",
    "  return results;\n",
    "}"
   ]
  },
  {
   "cell_type": "code",
   "execution_count": 5,
   "metadata": {},
   "outputs": [
    {
     "name": "stdout",
     "output_type": "stream",
     "text": [
      "true\n"
     ]
    }
   ],
   "source": [
    "print(isUpperCase('HELLO'));"
   ]
  },
  {
   "cell_type": "markdown",
   "metadata": {},
   "source": [
    "problem_18"
   ]
  },
  {
   "cell_type": "code",
   "execution_count": 6,
   "metadata": {},
   "outputs": [
    {
     "name": "stdout",
     "output_type": "stream",
     "text": []
    }
   ],
   "source": [
    "String noSpace(String given_String) {\n",
    "  String results = given_String.replaceAll(' ','');\n",
    "  return results;\n",
    "}"
   ]
  },
  {
   "cell_type": "code",
   "execution_count": 7,
   "metadata": {},
   "outputs": [
    {
     "name": "stdout",
     "output_type": "stream",
     "text": [
      "8j8mBliB8gimjB8B8jlB\n"
     ]
    }
   ],
   "source": [
    "String given_String = '8 j 8   mBliB8g  imjB8B8  jl  B';\n",
    "print(noSpace(given_String));"
   ]
  },
  {
   "cell_type": "markdown",
   "metadata": {},
   "source": [
    "problem_19"
   ]
  },
  {
   "cell_type": "code",
   "execution_count": 1,
   "metadata": {},
   "outputs": [
    {
     "name": "stdout",
     "output_type": "stream",
     "text": []
    }
   ],
   "source": [
    "int grow(List<int> arr) {\n",
    "  int result = 1;\n",
    "  for (int n in arr){\n",
    "    result *= n;\n",
    "  }\n",
    "  return result;\n",
    "}"
   ]
  },
  {
   "cell_type": "code",
   "execution_count": 2,
   "metadata": {},
   "outputs": [
    {
     "name": "stdout",
     "output_type": "stream",
     "text": [
      "24\n"
     ]
    }
   ],
   "source": [
    "List<int> arr = [1, 2, 3, 4];\n",
    "print(grow(arr));"
   ]
  },
  {
   "cell_type": "markdown",
   "metadata": {},
   "source": [
    "problem 20."
   ]
  },
  {
   "cell_type": "code",
   "execution_count": 1,
   "metadata": {},
   "outputs": [
    {
     "name": "stdout",
     "output_type": "stream",
     "text": []
    }
   ],
   "source": [
    "String evenOrOdd(int number) {\n",
    "  if (number % 2 == 0) {\n",
    "    return 'Even';\n",
    "  } else{\n",
    "    return 'Odd';\n",
    "  }\n",
    "}"
   ]
  },
  {
   "cell_type": "code",
   "execution_count": 2,
   "metadata": {},
   "outputs": [
    {
     "name": "stdout",
     "output_type": "stream",
     "text": [
      "Even\n"
     ]
    }
   ],
   "source": [
    "int number = 10;\n",
    "print(evenOrOdd(number));"
   ]
  },
  {
   "cell_type": "markdown",
   "metadata": {},
   "source": [
    "problem 21"
   ]
  },
  {
   "cell_type": "markdown",
   "metadata": {},
   "source": [
    "'https://www.codewars.com/kata/54bf1c2cd5b56cc47f0007a1/train/dart'"
   ]
  }
 ],
 "metadata": {
  "kernelspec": {
   "display_name": "Dart",
   "language": "",
   "name": "jupyterdartkernel"
  },
  "language_info": {
   "file_extension": "dart",
   "mimetype": "application/dart",
   "name": "dart"
  }
 },
 "nbformat": 4,
 "nbformat_minor": 2
}
