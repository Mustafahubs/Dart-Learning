{
 "cells": [
  {
   "cell_type": "markdown",
   "metadata": {},
   "source": [
    "Logical Operators"
   ]
  },
  {
   "cell_type": "markdown",
   "metadata": {},
   "source": [
    "1. \"&&\" And\n",
    "2. \"||\" or\n",
    "3. \"!\" not"
   ]
  },
  {
   "cell_type": "markdown",
   "metadata": {},
   "source": [
    "\"&&\" And"
   ]
  },
  {
   "cell_type": "code",
   "execution_count": 4,
   "metadata": {},
   "outputs": [
    {
     "name": "stdout",
     "output_type": "stream",
     "text": [
      "true\n",
      "Successfully Login!\n"
     ]
    }
   ],
   "source": [
    "// email\n",
    "var input_email = \"ahmad123@gmail.com\";\n",
    "var check_email = \"ahmad123@gmail.com\";\n",
    "// passwords\n",
    "var input_pass = \"ahmad123\";\n",
    "var check_pass = \"ahmad123\";\n",
    "\n",
    "if (input_email == check_email && input_pass == check_pass) {\n",
    "  print(true);\n",
    "  print('Successfully Login!');\n",
    "}\n",
    "else {\n",
    "  print(false);\n",
    "  print('User_email or password wrong!');\n",
    "}"
   ]
  },
  {
   "cell_type": "markdown",
   "metadata": {},
   "source": [
    "\"||\" or"
   ]
  },
  {
   "cell_type": "code",
   "execution_count": 1,
   "metadata": {},
   "outputs": [
    {
     "name": "stdout",
     "output_type": "stream",
     "text": [
      "false\n"
     ]
    }
   ],
   "source": [
    "String user_name = 'Ahmad';\n",
    "int age = 19;\n",
    "String input_Name = \"ahmad\";\n",
    "int input_Age = 20;\n",
    "// apply the or condition\n",
    "\n",
    "if (user_name == input_Name || age == input_Age) {\n",
    "  print(true);\n",
    "} \n",
    "else{\n",
    "  print(false);\n",
    "}"
   ]
  },
  {
   "cell_type": "markdown",
   "metadata": {},
   "source": [
    "\"!\" not"
   ]
  },
  {
   "cell_type": "code",
   "execution_count": 6,
   "metadata": {},
   "outputs": [
    {
     "name": "stdout",
     "output_type": "stream",
     "text": [
      "true\n"
     ]
    }
   ],
   "source": [
    "int x = 5;\n",
    "int y = 6;\n",
    "\n",
    "var z = x != y;\n",
    "print(z);"
   ]
  }
 ],
 "metadata": {
  "kernelspec": {
   "display_name": "Dart",
   "language": "",
   "name": "jupyterdartkernel"
  },
  "language_info": {
   "file_extension": "dart",
   "mimetype": "application/dart",
   "name": "dart"
  }
 },
 "nbformat": 4,
 "nbformat_minor": 2
}
