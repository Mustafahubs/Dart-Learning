{
 "cells": [
  {
   "cell_type": "markdown",
   "metadata": {},
   "source": [
    "MATH IN DART"
   ]
  },
  {
   "cell_type": "markdown",
   "metadata": {},
   "source": [
    "generate random number"
   ]
  },
  {
   "cell_type": "code",
   "execution_count": 1,
   "metadata": {},
   "outputs": [
    {
     "name": "stdout",
     "output_type": "stream",
     "text": []
    }
   ],
   "source": [
    "import 'dart:math';"
   ]
  },
  {
   "cell_type": "code",
   "execution_count": 3,
   "metadata": {},
   "outputs": [
    {
     "name": "stdout",
     "output_type": "stream",
     "text": []
    }
   ],
   "source": [
    "Random random = new Random();\n",
    "int random_Num = random.nextInt(10)+1; // + 1 using for included the given number. from 1 to given number"
   ]
  },
  {
   "cell_type": "code",
   "execution_count": 12,
   "metadata": {},
   "outputs": [
    {
     "name": "stdout",
     "output_type": "stream",
     "text": [
      "5\n"
     ]
    }
   ],
   "source": [
    "print(random_Num);"
   ]
  },
  {
   "cell_type": "markdown",
   "metadata": {},
   "source": [
    "how to get the power of given number in dart?"
   ]
  },
  {
   "cell_type": "code",
   "execution_count": 13,
   "metadata": {},
   "outputs": [
    {
     "name": "stdout",
     "output_type": "stream",
     "text": [
      "100\n"
     ]
    }
   ],
   "source": [
    "int given_Number = 10;\n",
    "int power = 2;\n",
    "\n",
    "num power_Number = pow(given_Number,power);\n",
    "print(power_Number);"
   ]
  },
  {
   "cell_type": "markdown",
   "metadata": {},
   "source": [
    "max and min method in dart"
   ]
  },
  {
   "cell_type": "code",
   "execution_count": 14,
   "metadata": {},
   "outputs": [
    {
     "name": "stdout",
     "output_type": "stream",
     "text": [
      "10\n"
     ]
    }
   ],
   "source": [
    "int num1 = 10;\n",
    "int num2 = 5;\n",
    "// get maximum \n",
    "num maximum = max(num1,num2);\n",
    "print(maximum);"
   ]
  },
  {
   "cell_type": "code",
   "execution_count": 16,
   "metadata": {},
   "outputs": [
    {
     "name": "stdout",
     "output_type": "stream",
     "text": [
      "5\n"
     ]
    }
   ],
   "source": [
    "// get manimum\n",
    "\n",
    "num minimum = min(num1,num2);\n",
    "print(minimum);"
   ]
  },
  {
   "cell_type": "markdown",
   "metadata": {},
   "source": [
    "get the square root of every number"
   ]
  },
  {
   "cell_type": "code",
   "execution_count": 2,
   "metadata": {},
   "outputs": [
    {
     "name": "stdout",
     "output_type": "stream",
     "text": [
      "5.0\n"
     ]
    }
   ],
   "source": [
    "int given_Num = 25;\n",
    "num square_Root = sqrt(given_Num);\n",
    "print(square_Root);"
   ]
  },
  {
   "cell_type": "code",
   "execution_count": 1,
   "metadata": {},
   "outputs": [
    {
     "ename": "ERROR",
     "evalue": "error",
     "output_type": "error",
     "traceback": [
      "/C:/Users/MUHAMM~1/AppData/Local/Temp/tmp8_bsypga/main.dart:4:1: Error: A non-null value must be returned since the return type 'int' doesn't allow null.",
      "int squareSum(List numbers) {",
      "^"
     ]
    }
   ],
   "source": [
    "int squareSum(List numbers) {\n",
    "  int result = 0;\n",
    "  for (int n in numbers) {\n",
    "    int multiply = n * 2;\n",
    "    result += multiply;\n",
    "  }\n",
    "  print(result);\n",
    "}"
   ]
  },
  {
   "cell_type": "code",
   "execution_count": 1,
   "metadata": {},
   "outputs": [
    {
     "name": "stdout",
     "output_type": "stream",
     "text": []
    }
   ],
   "source": [
    "int squareSum(List numbers) {\n",
    "  int result = 0;\n",
    "  for (int n in numbers) {\n",
    "    int square = n * 2;\n",
    "    result += square;\n",
    "  }\n",
    "  print(result);\n",
    "  return result; // Optionally, you can also return the result\n",
    "}\n"
   ]
  }
 ],
 "metadata": {
  "kernelspec": {
   "display_name": "Dart",
   "language": "",
   "name": "jupyterdartkernel"
  },
  "language_info": {
   "file_extension": "dart",
   "mimetype": "application/dart",
   "name": "dart"
  }
 },
 "nbformat": 4,
 "nbformat_minor": 2
}
