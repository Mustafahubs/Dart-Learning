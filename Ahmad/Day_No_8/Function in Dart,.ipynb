{
 "cells": [
  {
   "cell_type": "markdown",
   "metadata": {},
   "source": [
    "Function in Dart,"
   ]
  },
  {
   "cell_type": "markdown",
   "metadata": {},
   "source": [
    "Syntax"
   ]
  },
  {
   "cell_type": "code",
   "execution_count": null,
   "metadata": {},
   "outputs": [],
   "source": [
    "returntype functionName(parameter1,parameter2, ...){\n",
    "  // function body\n",
    "}"
   ]
  },
  {
   "cell_type": "markdown",
   "metadata": {},
   "source": [
    "#### make a greating function"
   ]
  },
  {
   "cell_type": "code",
   "execution_count": 1,
   "metadata": {},
   "outputs": [
    {
     "name": "stdout",
     "output_type": "stream",
     "text": []
    }
   ],
   "source": [
    "void greating_Function(String name){\n",
    "  print(\"Hello $name. Good Morning!\");\n",
    "}"
   ]
  },
  {
   "cell_type": "code",
   "execution_count": 5,
   "metadata": {},
   "outputs": [
    {
     "name": "stdout",
     "output_type": "stream",
     "text": [
      "Hello Muhammad Ahmad. Good Morning!\n"
     ]
    }
   ],
   "source": [
    "String given_Name = 'Muhammad Ahmad';\n",
    "greating_Function(given_Name);"
   ]
  },
  {
   "cell_type": "markdown",
   "metadata": {},
   "source": [
    "#### make a program that take two number and sum these numbers"
   ]
  },
  {
   "cell_type": "code",
   "execution_count": 10,
   "metadata": {},
   "outputs": [
    {
     "name": "stdout",
     "output_type": "stream",
     "text": []
    }
   ],
   "source": [
    "num calculate_Numbers(num num1, num num2) {\n",
    "  num sum = num1 + num2;\n",
    "  return sum;\n",
    "}\n"
   ]
  },
  {
   "cell_type": "code",
   "execution_count": 11,
   "metadata": {},
   "outputs": [
    {
     "name": "stdout",
     "output_type": "stream",
     "text": [
      "15.6\n"
     ]
    }
   ],
   "source": [
    "num num1 = 5.6;\n",
    "num num2 = 10;\n",
    "num sum_of_Number = calculate_Numbers(num1,num2);\n",
    "print(sum_of_Number);"
   ]
  }
 ],
 "metadata": {
  "kernelspec": {
   "display_name": "Dart",
   "language": "",
   "name": "jupyterdartkernel"
  },
  "language_info": {
   "file_extension": "dart",
   "mimetype": "application/dart",
   "name": "dart"
  }
 },
 "nbformat": 4,
 "nbformat_minor": 2
}
