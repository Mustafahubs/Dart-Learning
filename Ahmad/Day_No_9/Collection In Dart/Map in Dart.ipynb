{
 "cells": [
  {
   "cell_type": "markdown",
   "metadata": {},
   "source": [
    "map in dart"
   ]
  },
  {
   "cell_type": "code",
   "execution_count": 1,
   "metadata": {},
   "outputs": [
    {
     "name": "stdout",
     "output_type": "stream",
     "text": [
      "{USA: Washington, D.C., India: New Delhi, China: Beijing}\n"
     ]
    }
   ],
   "source": [
    "Map<String, String> countryCapital = {\n",
    "  'USA': 'Washington, D.C.',\n",
    "  'India': 'New Delhi',\n",
    "  'China': 'Beijing'\n",
    "};\n",
    "print(countryCapital);"
   ]
  },
  {
   "cell_type": "markdown",
   "metadata": {},
   "source": [
    "add new item"
   ]
  },
  {
   "cell_type": "code",
   "execution_count": 2,
   "metadata": {},
   "outputs": [
    {
     "name": "stdout",
     "output_type": "stream",
     "text": [
      "{USA: Washington, D.C., India: New Delhi, China: Beijing, Japan: Tokio}\n"
     ]
    }
   ],
   "source": [
    "// Adding New Item\n",
    "countryCapital['Japan'] = 'Tokio';\n",
    "print(countryCapital);"
   ]
  },
  {
   "cell_type": "markdown",
   "metadata": {},
   "source": [
    "remove item"
   ]
  },
  {
   "cell_type": "code",
   "execution_count": 5,
   "metadata": {},
   "outputs": [
    {
     "name": "stdout",
     "output_type": "stream",
     "text": [
      "{India: New Delhi, China: Beijing, Japan: Tokio}\n"
     ]
    }
   ],
   "source": [
    "countryCapital.remove(\"USA\");\n",
    "print(countryCapital);\n"
   ]
  },
  {
   "cell_type": "markdown",
   "metadata": {},
   "source": [
    "loop in map"
   ]
  },
  {
   "cell_type": "code",
   "execution_count": 1,
   "metadata": {},
   "outputs": [
    {
     "name": "stdout",
     "output_type": "stream",
     "text": [
      "Key title, value Misson Mangal\n",
      "Key author, value Kuber Singh\n",
      "Key page, value 233\n"
     ]
    }
   ],
   "source": [
    "Map<String, dynamic> book = {\n",
    "    'title': 'Misson Mangal',\n",
    "    'author': 'Kuber Singh',\n",
    "    'page': 233\n",
    "};\n",
    "\n",
    "// Loop Through Map\n",
    "for(MapEntry book in book.entries){\n",
    "  print('Key ${book.key}, value ${book.value}');\n",
    "}"
   ]
  },
  {
   "cell_type": "markdown",
   "metadata": {},
   "source": [
    "keys.toList(), values.toList(), containsKey(‘key’), containsValue(‘value’), clear()"
   ]
  },
  {
   "cell_type": "code",
   "execution_count": 5,
   "metadata": {},
   "outputs": [
    {
     "name": "stdout",
     "output_type": "stream",
     "text": [
      "[title, author, page]\n"
     ]
    }
   ],
   "source": [
    "// convert all keys into list from\n",
    "\n",
    "var bookKeys = book.keys.toList();\n",
    "print(bookKeys);"
   ]
  },
  {
   "cell_type": "code",
   "execution_count": 6,
   "metadata": {},
   "outputs": [
    {
     "name": "stdout",
     "output_type": "stream",
     "text": [
      "[Misson Mangal, Kuber Singh, 233]\n"
     ]
    }
   ],
   "source": [
    "// convert all values into list from\n",
    "var bookValues = book.values.toList();\n",
    "print(bookValues);"
   ]
  },
  {
   "cell_type": "code",
   "execution_count": 8,
   "metadata": {},
   "outputs": [
    {
     "name": "stdout",
     "output_type": "stream",
     "text": [
      "true\n"
     ]
    }
   ],
   "source": [
    "// check key in map or not\n",
    "\n",
    "bool answer = book.containsKey('title');\n",
    "print(answer);"
   ]
  },
  {
   "cell_type": "code",
   "execution_count": 10,
   "metadata": {},
   "outputs": [
    {
     "name": "stdout",
     "output_type": "stream",
     "text": [
      "true\n"
     ]
    }
   ],
   "source": [
    "// check value in map or not\n",
    "print(book.containsValue(233));"
   ]
  },
  {
   "cell_type": "code",
   "execution_count": 11,
   "metadata": {},
   "outputs": [
    {
     "name": "stdout",
     "output_type": "stream",
     "text": [
      "{}\n"
     ]
    }
   ],
   "source": [
    "// clear the all map\n",
    "\n",
    "book.clear();\n",
    "print(book);"
   ]
  },
  {
   "cell_type": "markdown",
   "metadata": {},
   "source": [
    "problem"
   ]
  },
  {
   "cell_type": "code",
   "execution_count": 4,
   "metadata": {},
   "outputs": [
    {
     "name": "stdout",
     "output_type": "stream",
     "text": [
      "{blue: 2, black: 1, white: 3, red: 1, orange: 2, yellow: 3}\n"
     ]
    }
   ],
   "source": [
    "\n",
    "Map<String, int> colorDict = {\n",
    "  'blue': 2,\n",
    "  'black': 1,\n",
    "  'white': 3,\n",
    "};\n",
    "\n",
    "List<String> colrList = ['red', 'orange', 'yellow'];\n",
    "\n",
    "for (var x in colrList) {\n",
    "  String key = x;\n",
    "  int value = colrList.indexOf(x) + 1;\n",
    "  Map<String, int> newMap = {key: value};\n",
    "  colorDict.addAll(newMap);\n",
    "  // print(newMap);\n",
    "}\n",
    "\n",
    "\n",
    "print(colorDict);"
   ]
  },
  {
   "cell_type": "code",
   "execution_count": null,
   "metadata": {},
   "outputs": [],
   "source": []
  }
 ],
 "metadata": {
  "kernelspec": {
   "display_name": "Dart",
   "language": "",
   "name": "jupyterdartkernel"
  },
  "language_info": {
   "file_extension": "dart",
   "mimetype": "application/dart",
   "name": "dart"
  }
 },
 "nbformat": 4,
 "nbformat_minor": 2
}
