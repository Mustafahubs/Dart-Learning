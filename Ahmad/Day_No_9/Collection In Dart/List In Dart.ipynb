{
 "cells": [
  {
   "cell_type": "markdown",
   "metadata": {},
   "source": [
    "How To Create List In Dart?"
   ]
  },
  {
   "cell_type": "code",
   "execution_count": 1,
   "metadata": {},
   "outputs": [
    {
     "name": "stdout",
     "output_type": "stream",
     "text": []
    }
   ],
   "source": [
    "// list contains with just string items\n",
    "\n",
    "List <String> stringList = ['Mouse','Keyboard','Laptop','Chair'];\n",
    "\n",
    "// list contains with just integer items\n",
    "\n",
    "List <int> intList = [1,2,3,4,5,6,7,8,9,10];\n",
    "\n",
    "// list contains with just double items\n",
    "\n",
    "List <double> doubleList = [1.1,2.0,3.5];\n",
    "\n",
    "// list contains with mixed items\n",
    "\n",
    "List <dynamic> mixedList = ['Ahmad','Ali',1,2,100.0,99.9];\n",
    "\n",
    "// list contains with mixed items\n",
    "\n",
    "var mixedList2 = ['Ahmad','Ali',1,2,100.0,99.9];"
   ]
  },
  {
   "cell_type": "code",
   "execution_count": 2,
   "metadata": {},
   "outputs": [
    {
     "name": "stdout",
     "output_type": "stream",
     "text": [
      "String Items List:- [Mouse, Keyboard, Laptop, Chair]\n",
      "Int Items List:- [1, 2, 3, 4, 5, 6, 7, 8, 9, 10]\n",
      "Double Items List:- [1.1, 2.0, 3.5]\n",
      "Mixed Items List:- [Ahmad, Ali, 1, 2, 100.0, 99.9]\n",
      "2nd type of Mixed Items List:- [Ahmad, Ali, 1, 2, 100.0, 99.9]\n"
     ]
    }
   ],
   "source": [
    "print('String Items List:- $stringList');\n",
    "print('Int Items List:- $intList');\n",
    "print('Double Items List:- $doubleList');\n",
    "print('Mixed Items List:- $mixedList');\n",
    "print('2nd type of Mixed Items List:- $mixedList');"
   ]
  },
  {
   "cell_type": "markdown",
   "metadata": {},
   "source": [
    "Types Of Lists:- \n",
    "1. Fixed Length List\n",
    "2. Growable List [Mostly Used]"
   ]
  },
  {
   "cell_type": "code",
   "execution_count": 2,
   "metadata": {},
   "outputs": [
    {
     "name": "stdout",
     "output_type": "stream",
     "text": [
      "[1, 1, 1, 1, 1]\n"
     ]
    }
   ],
   "source": [
    "// Fixed length List\n",
    "\n",
    "var list = List<int>.filled(5,1);  \n",
    "print(list);"
   ]
  },
  {
   "cell_type": "code",
   "execution_count": 3,
   "metadata": {},
   "outputs": [
    {
     "name": "stdout",
     "output_type": "stream",
     "text": [
      "[210, 21, 22, 33, 44, 55]\n"
     ]
    }
   ],
   "source": [
    "// grow able list\n",
    "var list1 = [210,21,22,33,44,55];  \n",
    "print(list1);"
   ]
  },
  {
   "cell_type": "markdown",
   "metadata": {},
   "source": [
    "Access Item Of List"
   ]
  },
  {
   "cell_type": "code",
   "execution_count": 2,
   "metadata": {},
   "outputs": [
    {
     "name": "stdout",
     "output_type": "stream",
     "text": [
      "210\n",
      "55\n"
     ]
    }
   ],
   "source": [
    "var list =  [210,21,22,33,44,55];\n",
    "// get first item\n",
    "int firstItem = list[0];\n",
    "print(firstItem);\n",
    "// get last item\n",
    "int lastItem = list[5];\n",
    "print(lastItem);"
   ]
  },
  {
   "cell_type": "code",
   "execution_count": 1,
   "metadata": {},
   "outputs": [
    {
     "name": "stdout",
     "output_type": "stream",
     "text": [
      "[21, 22]\n"
     ]
    }
   ],
   "source": [
    "// select the item range in list\n",
    "\n",
    "var list = [210, 21, 22, 33, 44, 55];\n",
    "\n",
    "print(list.sublist(1,3));\n",
    "\n"
   ]
  },
  {
   "cell_type": "markdown",
   "metadata": {},
   "source": [
    "add and add all methods"
   ]
  },
  {
   "cell_type": "code",
   "execution_count": 3,
   "metadata": {},
   "outputs": [
    {
     "name": "stdout",
     "output_type": "stream",
     "text": [
      "[2, 4, 6, 8, 10]\n",
      "[2, 4, 6, 8, 10, 12]\n"
     ]
    }
   ],
   "source": [
    "var numberList = [2,4,6,8,10];  \n",
    "print(numberList);  \n",
    "numberList.add(12);  \n",
    "print(numberList); "
   ]
  },
  {
   "cell_type": "code",
   "execution_count": 2,
   "metadata": {},
   "outputs": [
    {
     "name": "stdout",
     "output_type": "stream",
     "text": [
      "[2, 4, 6, 8, 10]\n",
      "[2, 4, 6, 8, 10, 12, 14, 16, 18]\n"
     ]
    }
   ],
   "source": [
    "var evenList = [2, 4, 6, 8, 10];\n",
    "print(evenList);\n",
    "var moreEvenList = [12, 14, 16, 18];\n",
    "evenList.addAll(moreEvenList);\n",
    "print(evenList);"
   ]
  },
  {
   "cell_type": "markdown",
   "metadata": {},
   "source": [
    "Insert and insert all methods in list"
   ]
  },
  {
   "cell_type": "code",
   "execution_count": 4,
   "metadata": {},
   "outputs": [
    {
     "name": "stdout",
     "output_type": "stream",
     "text": [
      "[3, 4, 2, 5]\n",
      "[3, 4, 15, 2, 5]\n"
     ]
    }
   ],
   "source": [
    "List myList = [3, 4, 2, 5];\n",
    "print(myList);\n",
    "myList.insert(2, 15);\n",
    "print(myList);"
   ]
  },
  {
   "cell_type": "code",
   "execution_count": 5,
   "metadata": {},
   "outputs": [
    {
     "name": "stdout",
     "output_type": "stream",
     "text": [
      "[3, 6, 7, 10, 9, 4, 15, 2, 5]\n"
     ]
    }
   ],
   "source": [
    "myList.insertAll(1, [6, 7, 10, 9]);\n",
    "print(myList);"
   ]
  },
  {
   "cell_type": "markdown",
   "metadata": {},
   "source": [
    "replace range in list"
   ]
  },
  {
   "cell_type": "code",
   "execution_count": 1,
   "metadata": {},
   "outputs": [
    {
     "name": "stdout",
     "output_type": "stream",
     "text": [
      "[10, 15, 20, 25, 30]\n",
      "[5, 6, 7, 8, 30]\n"
     ]
    }
   ],
   "source": [
    "var list = [10, 15, 20, 25, 30];\n",
    "print(list);\n",
    "list.replaceRange(0, 4, [5, 6, 7, 8]);\n",
    "print(list);"
   ]
  },
  {
   "cell_type": "markdown",
   "metadata": {},
   "source": [
    "remove(), removeAt(), removeLast(), removeRange()\n",
    "\n",
    "in List"
   ]
  },
  {
   "cell_type": "code",
   "execution_count": 1,
   "metadata": {},
   "outputs": [
    {
     "name": "stdout",
     "output_type": "stream",
     "text": [
      "[10, 20, 30, 40, 50]\n",
      "[10, 20, 40, 50]\n"
     ]
    }
   ],
   "source": [
    "// remove()\n",
    "var list = [10, 20, 30, 40, 50];\n",
    "print(list);\n",
    "list.remove(30);\n",
    "print(list);"
   ]
  },
  {
   "cell_type": "code",
   "execution_count": 3,
   "metadata": {},
   "outputs": [
    {
     "name": "stdout",
     "output_type": "stream",
     "text": [
      "[10, 40, 50]\n"
     ]
    }
   ],
   "source": [
    "// removeAt()\n",
    "list.removeAt(1);\n",
    "print(list);"
   ]
  },
  {
   "cell_type": "code",
   "execution_count": 5,
   "metadata": {},
   "outputs": [
    {
     "name": "stdout",
     "output_type": "stream",
     "text": [
      "[10, 40, 50]\n",
      "[10, 40]\n"
     ]
    }
   ],
   "source": [
    "// removeLast()\n",
    "print(list);\n",
    "list.removeLast();\n",
    "print(list);"
   ]
  },
  {
   "cell_type": "code",
   "execution_count": 2,
   "metadata": {},
   "outputs": [
    {
     "name": "stdout",
     "output_type": "stream",
     "text": [
      "[10, 20, 40, 50]\n",
      "[50]\n"
     ]
    }
   ],
   "source": [
    "// removeRange()\n",
    "\n",
    "print(list);\n",
    "list.removeRange(0,3);\n",
    "print(list);"
   ]
  },
  {
   "cell_type": "markdown",
   "metadata": {},
   "source": [
    "loop in list"
   ]
  },
  {
   "cell_type": "code",
   "execution_count": 1,
   "metadata": {},
   "outputs": [
    {
     "name": "stdout",
     "output_type": "stream",
     "text": []
    }
   ],
   "source": [
    "var list = ['blue','colors',1,2,3,1.5];"
   ]
  },
  {
   "cell_type": "code",
   "execution_count": 3,
   "metadata": {},
   "outputs": [
    {
     "name": "stdout",
     "output_type": "stream",
     "text": [
      "blue\n",
      "colors\n",
      "1\n",
      "2\n",
      "3\n",
      "1.5\n"
     ]
    }
   ],
   "source": [
    "for (var x in list) {\n",
    "  print(x);\n",
    "}"
   ]
  },
  {
   "cell_type": "markdown",
   "metadata": {},
   "source": [
    "combine method in list"
   ]
  },
  {
   "cell_type": "code",
   "execution_count": 1,
   "metadata": {},
   "outputs": [
    {
     "name": "stdout",
     "output_type": "stream",
     "text": []
    }
   ],
   "source": [
    "List<String> names = [\"Raj\", \"John\", \"Rocky\"];\n",
    "List<String> names2 = [\"Mike\", \"Subash\", \"Mark\"];\n",
    "\n",
    "List<String> allNames = [...names, ...names2];\n",
    "print(allNames);"
   ]
  },
  {
   "cell_type": "code",
   "execution_count": 2,
   "metadata": {},
   "outputs": [
    {
     "name": "stdout",
     "output_type": "stream",
     "text": [
      "[Raj, John, Rocky, Mike, Subash, Mark]\n"
     ]
    }
   ],
   "source": [
    "List<String> allNames = names + names2;\n",
    "print(allNames);"
   ]
  }
 ],
 "metadata": {
  "kernelspec": {
   "display_name": "Dart",
   "language": "",
   "name": "jupyterdartkernel"
  },
  "language_info": {
   "file_extension": "dart",
   "mimetype": "application/dart",
   "name": "dart"
  }
 },
 "nbformat": 4,
 "nbformat_minor": 2
}
